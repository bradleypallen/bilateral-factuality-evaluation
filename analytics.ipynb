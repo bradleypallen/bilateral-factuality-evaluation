{
 "cells": [
  {
   "cell_type": "code",
   "execution_count": 13,
   "metadata": {},
   "outputs": [],
   "source": [
    "import json, glob, pandas as pd"
   ]
  },
  {
   "cell_type": "code",
   "execution_count": 15,
   "metadata": {},
   "outputs": [],
   "source": [
    "data = []\n",
    "for file in glob.glob(\"experiments/*.json\"):\n",
    "   data += json.load(open(file, \"r\"))"
   ]
  },
  {
   "cell_type": "code",
   "execution_count": 16,
   "metadata": {},
   "outputs": [],
   "source": [
    "df = pd.DataFrame(data)"
   ]
  },
  {
   "cell_type": "code",
   "execution_count": 29,
   "metadata": {},
   "outputs": [],
   "source": [
    "model_evals = df.groupby('model_name')['evaluation'].value_counts().unstack(fill_value=0)\n",
    "model_evals[\"correct\"] = model_evals[\"t\"] / 4326.\n",
    "model_evals[\"not attempted\"] = (model_evals[\"b\"] + model_evals[\"n\"]) / 4326.\n",
    "model_evals[\"incorrect\"] = model_evals[\"f\"] / 4326.\n",
    "model_evals[\"correct given attempted\"] = model_evals[\"t\"] / (model_evals[\"t\"] + model_evals[\"f\"])"
   ]
  },
  {
   "cell_type": "code",
   "execution_count": 31,
   "metadata": {},
   "outputs": [],
   "source": [
    "pd.set_option('display.precision', 3)"
   ]
  },
  {
   "cell_type": "code",
   "execution_count": 32,
   "metadata": {},
   "outputs": [
    {
     "data": {
      "text/html": [
       "<div>\n",
       "<style scoped>\n",
       "    .dataframe tbody tr th:only-of-type {\n",
       "        vertical-align: middle;\n",
       "    }\n",
       "\n",
       "    .dataframe tbody tr th {\n",
       "        vertical-align: top;\n",
       "    }\n",
       "\n",
       "    .dataframe thead th {\n",
       "        text-align: right;\n",
       "    }\n",
       "</style>\n",
       "<table border=\"1\" class=\"dataframe\">\n",
       "  <thead>\n",
       "    <tr style=\"text-align: right;\">\n",
       "      <th>evaluation</th>\n",
       "      <th>b</th>\n",
       "      <th>f</th>\n",
       "      <th>n</th>\n",
       "      <th>t</th>\n",
       "      <th>correct</th>\n",
       "      <th>not attempted</th>\n",
       "      <th>incorrect</th>\n",
       "      <th>correct given attempted</th>\n",
       "    </tr>\n",
       "    <tr>\n",
       "      <th>model_name</th>\n",
       "      <th></th>\n",
       "      <th></th>\n",
       "      <th></th>\n",
       "      <th></th>\n",
       "      <th></th>\n",
       "      <th></th>\n",
       "      <th></th>\n",
       "      <th></th>\n",
       "    </tr>\n",
       "  </thead>\n",
       "  <tbody>\n",
       "    <tr>\n",
       "      <th>gpt-4o-2024-11-20</th>\n",
       "      <td>381</td>\n",
       "      <td>899</td>\n",
       "      <td>2204</td>\n",
       "      <td>836</td>\n",
       "      <td>0.193</td>\n",
       "      <td>0.598</td>\n",
       "      <td>0.208</td>\n",
       "      <td>0.482</td>\n",
       "    </tr>\n",
       "    <tr>\n",
       "      <th>gpt-4o-mini</th>\n",
       "      <td>316</td>\n",
       "      <td>674</td>\n",
       "      <td>2432</td>\n",
       "      <td>894</td>\n",
       "      <td>0.207</td>\n",
       "      <td>0.635</td>\n",
       "      <td>0.156</td>\n",
       "      <td>0.570</td>\n",
       "    </tr>\n",
       "    <tr>\n",
       "      <th>mistralai/Mistral-7B-Instruct-v0.3</th>\n",
       "      <td>241</td>\n",
       "      <td>400</td>\n",
       "      <td>835</td>\n",
       "      <td>2693</td>\n",
       "      <td>0.623</td>\n",
       "      <td>0.249</td>\n",
       "      <td>0.092</td>\n",
       "      <td>0.871</td>\n",
       "    </tr>\n",
       "    <tr>\n",
       "      <th>mistralai/Mixtral-8x7B-Instruct-v0.1</th>\n",
       "      <td>132</td>\n",
       "      <td>53</td>\n",
       "      <td>1060</td>\n",
       "      <td>2627</td>\n",
       "      <td>0.607</td>\n",
       "      <td>0.276</td>\n",
       "      <td>0.012</td>\n",
       "      <td>0.980</td>\n",
       "    </tr>\n",
       "  </tbody>\n",
       "</table>\n",
       "</div>"
      ],
      "text/plain": [
       "evaluation                              b    f     n     t  correct  \\\n",
       "model_name                                                            \n",
       "gpt-4o-2024-11-20                     381  899  2204   836    0.193   \n",
       "gpt-4o-mini                           316  674  2432   894    0.207   \n",
       "mistralai/Mistral-7B-Instruct-v0.3    241  400   835  2693    0.623   \n",
       "mistralai/Mixtral-8x7B-Instruct-v0.1  132   53  1060  2627    0.607   \n",
       "\n",
       "evaluation                            not attempted  incorrect  \\\n",
       "model_name                                                       \n",
       "gpt-4o-2024-11-20                             0.598      0.208   \n",
       "gpt-4o-mini                                   0.635      0.156   \n",
       "mistralai/Mistral-7B-Instruct-v0.3            0.249      0.092   \n",
       "mistralai/Mixtral-8x7B-Instruct-v0.1          0.276      0.012   \n",
       "\n",
       "evaluation                            correct given attempted  \n",
       "model_name                                                     \n",
       "gpt-4o-2024-11-20                                       0.482  \n",
       "gpt-4o-mini                                             0.570  \n",
       "mistralai/Mistral-7B-Instruct-v0.3                      0.871  \n",
       "mistralai/Mixtral-8x7B-Instruct-v0.1                    0.980  "
      ]
     },
     "execution_count": 32,
     "metadata": {},
     "output_type": "execute_result"
    }
   ],
   "source": [
    "model_evals"
   ]
  },
  {
   "cell_type": "code",
   "execution_count": 8,
   "metadata": {},
   "outputs": [],
   "source": [
    "df_music = df[df['metadata'].apply(lambda x: x[\"topic\"] == \"Music\")]\n"
   ]
  },
  {
   "cell_type": "code",
   "execution_count": 9,
   "metadata": {},
   "outputs": [
    {
     "data": {
      "text/plain": [
       "evaluation\n",
       "n    180\n",
       "f     67\n",
       "t     64\n",
       "b     30\n",
       "Name: count, dtype: int64"
      ]
     },
     "execution_count": 9,
     "metadata": {},
     "output_type": "execute_result"
    }
   ],
   "source": [
    "df_music['evaluation'].value_counts()"
   ]
  },
  {
   "cell_type": "code",
   "execution_count": 10,
   "metadata": {},
   "outputs": [
    {
     "data": {
      "text/plain": [
       "341"
      ]
     },
     "execution_count": 10,
     "metadata": {},
     "output_type": "execute_result"
    }
   ],
   "source": [
    "len(df_music)"
   ]
  }
 ],
 "metadata": {
  "kernelspec": {
   "display_name": "env",
   "language": "python",
   "name": "python3"
  },
  "language_info": {
   "codemirror_mode": {
    "name": "ipython",
    "version": 3
   },
   "file_extension": ".py",
   "mimetype": "text/x-python",
   "name": "python",
   "nbconvert_exporter": "python",
   "pygments_lexer": "ipython3",
   "version": "3.11.4"
  }
 },
 "nbformat": 4,
 "nbformat_minor": 2
}
