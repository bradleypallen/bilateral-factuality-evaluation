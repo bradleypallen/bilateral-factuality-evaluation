{
 "cells": [
  {
   "cell_type": "code",
   "execution_count": 1,
   "metadata": {},
   "outputs": [],
   "source": [
    "import json, pandas as pd"
   ]
  },
  {
   "cell_type": "code",
   "execution_count": 2,
   "metadata": {},
   "outputs": [],
   "source": [
    "data = json.load(open(\"experiments/Mistral-7B-instruct-v0.3-simpleqa.json\", \"r\"))"
   ]
  },
  {
   "cell_type": "code",
   "execution_count": 3,
   "metadata": {},
   "outputs": [],
   "source": [
    "df = pd.DataFrame(data)"
   ]
  },
  {
   "cell_type": "code",
   "execution_count": 4,
   "metadata": {},
   "outputs": [
    {
     "data": {
      "text/html": [
       "<div>\n",
       "<style scoped>\n",
       "    .dataframe tbody tr th:only-of-type {\n",
       "        vertical-align: middle;\n",
       "    }\n",
       "\n",
       "    .dataframe tbody tr th {\n",
       "        vertical-align: top;\n",
       "    }\n",
       "\n",
       "    .dataframe thead th {\n",
       "        text-align: right;\n",
       "    }\n",
       "</style>\n",
       "<table border=\"1\" class=\"dataframe\">\n",
       "  <thead>\n",
       "    <tr style=\"text-align: right;\">\n",
       "      <th></th>\n",
       "      <th>metadata</th>\n",
       "      <th>problem</th>\n",
       "      <th>answer</th>\n",
       "      <th>model_name</th>\n",
       "      <th>timestamp</th>\n",
       "      <th>verification</th>\n",
       "      <th>falsification</th>\n",
       "      <th>evaluation</th>\n",
       "    </tr>\n",
       "  </thead>\n",
       "  <tbody>\n",
       "    <tr>\n",
       "      <th>0</th>\n",
       "      <td>{'topic': 'Science and technology', 'answer_ty...</td>\n",
       "      <td>Who received the IEEE Frank Rosenblatt Award i...</td>\n",
       "      <td>Michio Sugeno</td>\n",
       "      <td>mistralai/Mistral-7B-Instruct-v0.3</td>\n",
       "      <td>2025-01-23T06:43:23.018503+00:00</td>\n",
       "      <td>\\nReasoning:\\n1. The question asks for the rec...</td>\n",
       "      <td>\\nReasoning steps:\\n1. The question asks for t...</td>\n",
       "      <td>t</td>\n",
       "    </tr>\n",
       "    <tr>\n",
       "      <th>1</th>\n",
       "      <td>{'topic': 'Science and technology', 'answer_ty...</td>\n",
       "      <td>Who was awarded the Oceanography Society's Jer...</td>\n",
       "      <td>Annick Bricaud</td>\n",
       "      <td>mistralai/Mistral-7B-Instruct-v0.3</td>\n",
       "      <td>2025-01-23T06:43:23.247770+00:00</td>\n",
       "      <td>\\nReasoning:\\n1. The question asks for the nam...</td>\n",
       "      <td>\\nReasoning steps:\\n1. The question asks for t...</td>\n",
       "      <td>t</td>\n",
       "    </tr>\n",
       "    <tr>\n",
       "      <th>2</th>\n",
       "      <td>{'topic': 'Geography', 'answer_type': 'Place',...</td>\n",
       "      <td>What's the name of the women's liberal arts co...</td>\n",
       "      <td>Radcliffe College</td>\n",
       "      <td>mistralai/Mistral-7B-Instruct-v0.3</td>\n",
       "      <td>2025-01-23T06:43:23.471721+00:00</td>\n",
       "      <td>\\nReasoning steps:\\n1. The question asks for t...</td>\n",
       "      <td>\\nReasoning steps:\\n1. The question asks for t...</td>\n",
       "      <td>b</td>\n",
       "    </tr>\n",
       "    <tr>\n",
       "      <th>3</th>\n",
       "      <td>{'topic': 'Sports', 'answer_type': 'Person', '...</td>\n",
       "      <td>In whose honor was the Leipzig 1877 tournament...</td>\n",
       "      <td>Adolf Anderssen</td>\n",
       "      <td>mistralai/Mistral-7B-Instruct-v0.3</td>\n",
       "      <td>2025-01-23T06:43:23.699156+00:00</td>\n",
       "      <td>\\nReasoning steps:\\n1. The question asks for t...</td>\n",
       "      <td>\\nReasoning steps:\\n1. The question asks for t...</td>\n",
       "      <td>t</td>\n",
       "    </tr>\n",
       "    <tr>\n",
       "      <th>4</th>\n",
       "      <td>{'topic': 'Art', 'answer_type': 'Person', 'url...</td>\n",
       "      <td>According to Karl Küchler, what did Empress El...</td>\n",
       "      <td>Poet Henrich Heine.</td>\n",
       "      <td>mistralai/Mistral-7B-Instruct-v0.3</td>\n",
       "      <td>2025-01-23T06:43:23.934805+00:00</td>\n",
       "      <td>\\nReasoning steps:\\n1. The question asks about...</td>\n",
       "      <td>\\nReasoning steps:\\n1. The question asks about...</td>\n",
       "      <td>n</td>\n",
       "    </tr>\n",
       "  </tbody>\n",
       "</table>\n",
       "</div>"
      ],
      "text/plain": [
       "                                            metadata  \\\n",
       "0  {'topic': 'Science and technology', 'answer_ty...   \n",
       "1  {'topic': 'Science and technology', 'answer_ty...   \n",
       "2  {'topic': 'Geography', 'answer_type': 'Place',...   \n",
       "3  {'topic': 'Sports', 'answer_type': 'Person', '...   \n",
       "4  {'topic': 'Art', 'answer_type': 'Person', 'url...   \n",
       "\n",
       "                                             problem               answer  \\\n",
       "0  Who received the IEEE Frank Rosenblatt Award i...        Michio Sugeno   \n",
       "1  Who was awarded the Oceanography Society's Jer...       Annick Bricaud   \n",
       "2  What's the name of the women's liberal arts co...    Radcliffe College   \n",
       "3  In whose honor was the Leipzig 1877 tournament...      Adolf Anderssen   \n",
       "4  According to Karl Küchler, what did Empress El...  Poet Henrich Heine.   \n",
       "\n",
       "                           model_name                         timestamp  \\\n",
       "0  mistralai/Mistral-7B-Instruct-v0.3  2025-01-23T06:43:23.018503+00:00   \n",
       "1  mistralai/Mistral-7B-Instruct-v0.3  2025-01-23T06:43:23.247770+00:00   \n",
       "2  mistralai/Mistral-7B-Instruct-v0.3  2025-01-23T06:43:23.471721+00:00   \n",
       "3  mistralai/Mistral-7B-Instruct-v0.3  2025-01-23T06:43:23.699156+00:00   \n",
       "4  mistralai/Mistral-7B-Instruct-v0.3  2025-01-23T06:43:23.934805+00:00   \n",
       "\n",
       "                                        verification  \\\n",
       "0  \\nReasoning:\\n1. The question asks for the rec...   \n",
       "1  \\nReasoning:\\n1. The question asks for the nam...   \n",
       "2  \\nReasoning steps:\\n1. The question asks for t...   \n",
       "3  \\nReasoning steps:\\n1. The question asks for t...   \n",
       "4  \\nReasoning steps:\\n1. The question asks about...   \n",
       "\n",
       "                                       falsification evaluation  \n",
       "0  \\nReasoning steps:\\n1. The question asks for t...          t  \n",
       "1  \\nReasoning steps:\\n1. The question asks for t...          t  \n",
       "2  \\nReasoning steps:\\n1. The question asks for t...          b  \n",
       "3  \\nReasoning steps:\\n1. The question asks for t...          t  \n",
       "4  \\nReasoning steps:\\n1. The question asks about...          n  "
      ]
     },
     "execution_count": 4,
     "metadata": {},
     "output_type": "execute_result"
    }
   ],
   "source": [
    "df.head()"
   ]
  },
  {
   "cell_type": "code",
   "execution_count": 5,
   "metadata": {},
   "outputs": [
    {
     "data": {
      "text/plain": [
       "evaluation\n",
       "t    2693\n",
       "n     835\n",
       "f     400\n",
       "b     241\n",
       "Name: count, dtype: int64"
      ]
     },
     "execution_count": 5,
     "metadata": {},
     "output_type": "execute_result"
    }
   ],
   "source": [
    "df['evaluation'].value_counts()"
   ]
  },
  {
   "cell_type": "code",
   "execution_count": 6,
   "metadata": {},
   "outputs": [
    {
     "data": {
      "text/plain": [
       "4169"
      ]
     },
     "execution_count": 6,
     "metadata": {},
     "output_type": "execute_result"
    }
   ],
   "source": [
    "df['evaluation'].value_counts().sum()"
   ]
  },
  {
   "cell_type": "code",
   "execution_count": 7,
   "metadata": {},
   "outputs": [
    {
     "data": {
      "text/plain": [
       "4326"
      ]
     },
     "execution_count": 7,
     "metadata": {},
     "output_type": "execute_result"
    }
   ],
   "source": [
    "len(df)"
   ]
  },
  {
   "cell_type": "code",
   "execution_count": 8,
   "metadata": {},
   "outputs": [],
   "source": [
    "df_music = df[df['metadata'].apply(lambda x: x[\"topic\"] == \"Music\")]\n"
   ]
  },
  {
   "cell_type": "code",
   "execution_count": 9,
   "metadata": {},
   "outputs": [
    {
     "data": {
      "text/plain": [
       "evaluation\n",
       "t    210\n",
       "n     64\n",
       "f     35\n",
       "b     26\n",
       "Name: count, dtype: int64"
      ]
     },
     "execution_count": 9,
     "metadata": {},
     "output_type": "execute_result"
    }
   ],
   "source": [
    "df_music['evaluation'].value_counts()"
   ]
  },
  {
   "cell_type": "code",
   "execution_count": 10,
   "metadata": {},
   "outputs": [
    {
     "data": {
      "text/plain": [
       "341"
      ]
     },
     "execution_count": 10,
     "metadata": {},
     "output_type": "execute_result"
    }
   ],
   "source": [
    "len(df_music)"
   ]
  }
 ],
 "metadata": {
  "kernelspec": {
   "display_name": "env",
   "language": "python",
   "name": "python3"
  },
  "language_info": {
   "codemirror_mode": {
    "name": "ipython",
    "version": 3
   },
   "file_extension": ".py",
   "mimetype": "text/x-python",
   "name": "python",
   "nbconvert_exporter": "python",
   "pygments_lexer": "ipython3",
   "version": "3.11.4"
  }
 },
 "nbformat": 4,
 "nbformat_minor": 2
}
