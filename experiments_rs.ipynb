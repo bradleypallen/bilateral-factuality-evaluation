{
 "cells": [
  {
   "cell_type": "code",
   "execution_count": 1,
   "metadata": {},
   "outputs": [],
   "source": [
    "from factuality_evaluator_rs import UnilateralFactualityEvaluator, BilateralFactualityEvaluator\n",
    "from tqdm import tqdm\n",
    "import json, os, pandas as pd"
   ]
  },
  {
   "cell_type": "code",
   "execution_count": 2,
   "metadata": {},
   "outputs": [],
   "source": [
    "df = pd.read_csv(\n",
    "    \"https://openaipublic.blob.core.windows.net/simple-evals/simple_qa_test_set.csv\"\n",
    ")"
   ]
  },
  {
   "cell_type": "code",
   "execution_count": 3,
   "metadata": {},
   "outputs": [],
   "source": [
    "SIMPLE_QA_DATASET = df.to_dict(orient=\"records\")[:1000]\n",
    "DATASET_SIZE = len(SIMPLE_QA_DATASET)\n",
    "EXPERIMENTAL_RUN_VERSION = \"v7\""
   ]
  },
  {
   "cell_type": "code",
   "execution_count": 4,
   "metadata": {},
   "outputs": [],
   "source": [
    "MODELS = [ \n",
    "    { \"model_name\": \"gpt-4o-mini\", \"batch_size\": 100 },\n",
    "    # { \"model_name\": \"gpt-4o-2024-11-20\", \"batch_size\": 100 },\n",
    "    # { \"model_name\": \"mistralai/Mistral-7B-Instruct-v0.3\", \"batch_size\": 50 },\n",
    "    # { \"model_name\": \"mistralai/Mixtral-8x7B-Instruct-v0.1\", \"batch_size\": 50 },\n",
    "    # { \"model_name\": \"claude-3-5-haiku-20241022\", \"batch_size\": 1 },\n",
    "    # { \"model_name\": \"claude-3-5-sonnet-20241022\", \"batch_size\": 1 },\n",
    "    # { \"model_name\": \"meta-llama/Llama-3.3-70B-Instruct\", \"batch_size\": 50 },\n",
    "]"
   ]
  },
  {
   "cell_type": "code",
   "execution_count": 5,
   "metadata": {},
   "outputs": [],
   "source": [
    "# Check if directory exists and create if not\n",
    "if not os.path.exists(f'experiments/{EXPERIMENTAL_RUN_VERSION}'):\n",
    "    os.makedirs(f'experiments/{EXPERIMENTAL_RUN_VERSION}/unilateral')\n",
    "    os.makedirs(f'experiments/{EXPERIMENTAL_RUN_VERSION}/bilateral')"
   ]
  },
  {
   "cell_type": "code",
   "execution_count": 6,
   "metadata": {},
   "outputs": [
    {
     "name": "stderr",
     "output_type": "stream",
     "text": [
      "gpt-4o-mini                         : 100%|██████████| 1000/1000 [7:42:49<00:00, 27.77s/it] \n"
     ]
    }
   ],
   "source": [
    "for model in MODELS:\n",
    "    filename = f'experiments/{EXPERIMENTAL_RUN_VERSION}/unilateral/{model[\"model_name\"].split(\"/\")[-1]}-simpleqa.json'\n",
    "    if os.path.isfile(filename):\n",
    "        print(f'{model[\"model_name\"]:36}: EXISTS')\n",
    "    else:\n",
    "        evaluator = UnilateralFactualityEvaluator(model[\"model_name\"], batch_size=model[\"batch_size\"])\n",
    "        results = []\n",
    "        for datapoint in tqdm(SIMPLE_QA_DATASET, desc=f'{evaluator.model_name:36}', total=len(SIMPLE_QA_DATASET)):\n",
    "            results.append(evaluator.invoke(datapoint, samples=5))\n",
    "        json.dump(results, open(filename, \"w+\"))"
   ]
  },
  {
   "cell_type": "code",
   "execution_count": null,
   "metadata": {},
   "outputs": [
    {
     "name": "stderr",
     "output_type": "stream",
     "text": [
      "gpt-4o-mini                         :  56%|█████▌    | 560/1000 [10:48:20<7:13:40, 59.14s/it] "
     ]
    }
   ],
   "source": [
    "for model in MODELS:\n",
    "    filename = f'experiments/{EXPERIMENTAL_RUN_VERSION}/bilateral/{model[\"model_name\"].split(\"/\")[-1]}-simpleqa.json'\n",
    "    if os.path.isfile(filename):\n",
    "        print(f'{model[\"model_name\"]:36}: EXISTS')\n",
    "    else:\n",
    "        evaluator = BilateralFactualityEvaluator(model[\"model_name\"], batch_size=model[\"batch_size\"])\n",
    "        results = []\n",
    "        for datapoint in tqdm(SIMPLE_QA_DATASET, desc=f'{evaluator.model_name:36}', total=len(SIMPLE_QA_DATASET)):\n",
    "            results.append(evaluator.invoke(datapoint, samples=5))\n",
    "        json.dump(results, open(filename, \"w+\"))"
   ]
  }
 ],
 "metadata": {
  "kernelspec": {
   "display_name": "env",
   "language": "python",
   "name": "python3"
  },
  "language_info": {
   "codemirror_mode": {
    "name": "ipython",
    "version": 3
   },
   "file_extension": ".py",
   "mimetype": "text/x-python",
   "name": "python",
   "nbconvert_exporter": "python",
   "pygments_lexer": "ipython3",
   "version": "3.11.4"
  }
 },
 "nbformat": 4,
 "nbformat_minor": 2
}
