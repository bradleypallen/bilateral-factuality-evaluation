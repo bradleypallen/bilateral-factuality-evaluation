{
 "cells": [
  {
   "cell_type": "code",
   "execution_count": 32,
   "metadata": {},
   "outputs": [],
   "source": [
    "from factuality_evaluator_rs import UnilateralFactualityEvaluator, BilateralFactualityEvaluator\n",
    "from tqdm import tqdm\n",
    "import json, os, pandas as pd"
   ]
  },
  {
   "cell_type": "code",
   "execution_count": 33,
   "metadata": {},
   "outputs": [],
   "source": [
    "df_pos = pd.read_csv(\"data/simple_qa_test_set.csv\")\n",
    "df_neg = pd.read_csv(\"data/synthetic_dataset_with_wrong_answers.csv\")\n",
    "df_neg = df_neg[[\"metadata\", \"problem\", \"wrong_answer_1\"]]\n",
    "df_neg.rename(columns={\"wrong_answer_1\": \"answer\"}, inplace=True)\n",
    "half_size = len(df_pos) // 2\n",
    "df_pos = df_pos.iloc[:half_size]\n",
    "df_pos[\"label\"] = \"t\"\n",
    "df_neg = df_neg.iloc[half_size:]\n",
    "df_neg[\"label\"] = \"f\"\n",
    "df = pd.concat([df_pos, df_neg])\n",
    "RANDOM_SEED = 9931\n",
    "df = df.sample(frac=1, random_state=RANDOM_SEED)\n",
    "df = df.reset_index(drop=True)"
   ]
  },
  {
   "cell_type": "code",
   "execution_count": 34,
   "metadata": {},
   "outputs": [],
   "source": [
    "SIMPLE_QA_DATASET = df.to_dict(orient=\"records\")[:100]\n",
    "DATASET_SIZE = len(SIMPLE_QA_DATASET)\n",
    "EXPERIMENTAL_RUN_VERSION = \"v12\"\n",
    "N_SAMPLES = 10"
   ]
  },
  {
   "cell_type": "code",
   "execution_count": 35,
   "metadata": {},
   "outputs": [],
   "source": [
    "MODELS = [ \n",
    "    { \"model_name\": \"nf-gpt-4o-mini\", \"temperature\": None, \"batch_size\": 100 },\n",
    "    { \"model_name\": \"nf-gpt-4o\", \"temperature\": None, \"batch_size\": 100 },\n",
    "    { \"model_name\": \"google/gemma-2-27b-it\", \"temperature\": None, \"batch_size\": 1 },\n",
    "    { \"model_name\": \"microsoft/phi-4\", \"temperature\": None, \"batch_size\": 1 },\n",
    "    { \"model_name\": \"google/gemini-2.0-flash-001\", \"temperature\": None, \"batch_size\": 1 },\n",
    "    { \"model_name\": \"nf-Llama-3.1-8b-instruct\", \"temperature\": None, \"batch_size\": 1 },\n",
    "    { \"model_name\": \"nf-Llama-3.1-70b-instruct\", \"temperature\": None, \"batch_size\": 1 },\n",
    "    { \"model_name\": \"claude-3-5-haiku-20241022\", \"temperature\": None, \"batch_size\": 1 },\n",
    "    { \"model_name\": \"claude-3-5-sonnet-20241022\", \"temperature\": None, \"batch_size\": 1 },\n",
    "    { \"model_name\": \"o3-mini\", \"temperature\": None, \"batch_size\": 1 },\n",
    "    # { \"model_name\": \"mistralai/Mistral-7B-Instruct-v0.3\", \"temperature\": None, \"batch_size\": 1 },\n",
    "    # { \"model_name\": \"mistralai/Mixtral-8x7B-Instruct-v0.1\", \"temperature\": None, \"batch_size\": 1 },\n",
    "    # { \"model_name\": \"deepseek/deepseek-r1-distill-llama-8b\", \"temperature\": None, \"batch_size\": 1 },\n",
    "]"
   ]
  },
  {
   "cell_type": "code",
   "execution_count": 36,
   "metadata": {},
   "outputs": [],
   "source": [
    "# Check if directory exists and create if not\n",
    "if not os.path.exists(f'experiments/{EXPERIMENTAL_RUN_VERSION}'):\n",
    "    os.makedirs(f'experiments/{EXPERIMENTAL_RUN_VERSION}/unilateral')\n",
    "    os.makedirs(f'experiments/{EXPERIMENTAL_RUN_VERSION}/bilateral')"
   ]
  },
  {
   "cell_type": "code",
   "execution_count": 37,
   "metadata": {},
   "outputs": [],
   "source": [
    "def generate_results(model, mode, filename, dataset, samples):\n",
    "    if os.path.isfile(filename):\n",
    "        results = json.load(open(filename, \"r\"))\n",
    "    else:\n",
    "        results = []\n",
    "    i = len(results)\n",
    "    for datapoint in tqdm(dataset[i:], desc=f'{model.model_name:36} {mode}', initial=i, total=len(dataset)):\n",
    "        results.append(model.invoke(datapoint, samples=samples))\n",
    "        json.dump(results, open(filename, \"w+\"))"
   ]
  },
  {
   "cell_type": "code",
   "execution_count": null,
   "metadata": {},
   "outputs": [
    {
     "name": "stderr",
     "output_type": "stream",
     "text": [
      "nf-gpt-4o-mini                       (UNI): 100%|██████████| 100/100 [00:00<?, ?it/s]\n",
      "nf-gpt-4o-mini                       (BIL): 100%|██████████| 100/100 [00:00<?, ?it/s]\n",
      "nf-gpt-4o                            (UNI): 100%|██████████| 100/100 [00:00<?, ?it/s]\n",
      "nf-gpt-4o                            (BIL): 100%|██████████| 100/100 [00:00<?, ?it/s]\n",
      "google/gemma-2-27b-it                (UNI): 100%|██████████| 100/100 [00:00<?, ?it/s]\n",
      "google/gemma-2-27b-it                (BIL): 100%|██████████| 100/100 [00:00<?, ?it/s]\n",
      "microsoft/phi-4                      (UNI): 100%|██████████| 100/100 [00:00<?, ?it/s]\n",
      "microsoft/phi-4                      (BIL): 100%|██████████| 100/100 [00:00<?, ?it/s]\n",
      "google/gemini-2.0-flash-001          (UNI): 100%|██████████| 100/100 [00:00<?, ?it/s]\n",
      "google/gemini-2.0-flash-001          (BIL): 100%|██████████| 100/100 [00:00<?, ?it/s]\n",
      "nf-Llama-3.1-8b-instruct             (UNI): 100%|██████████| 100/100 [00:00<?, ?it/s]\n",
      "nf-Llama-3.1-8b-instruct             (BIL): 100%|██████████| 100/100 [00:00<?, ?it/s]\n",
      "nf-Llama-3.1-70b-instruct            (UNI): 100%|██████████| 100/100 [00:00<?, ?it/s]\n",
      "nf-Llama-3.1-70b-instruct            (BIL): 100%|██████████| 100/100 [00:00<?, ?it/s]\n",
      "claude-3-5-haiku-20241022            (UNI): 100%|██████████| 100/100 [00:00<?, ?it/s]\n",
      "claude-3-5-haiku-20241022            (BIL): 100%|██████████| 100/100 [00:00<?, ?it/s]\n",
      "claude-3-5-sonnet-20241022           (UNI): 100%|██████████| 100/100 [00:00<?, ?it/s]\n",
      "claude-3-5-sonnet-20241022           (BIL): 100%|██████████| 100/100 [00:00<?, ?it/s]\n",
      "o3-mini                              (UNI):   5%|▌         | 5/100 [09:09<2:50:59, 108.00s/it]"
     ]
    }
   ],
   "source": [
    "for model in MODELS:\n",
    "    generate_results(\n",
    "        UnilateralFactualityEvaluator(model[\"model_name\"], temperature=model[\"temperature\"], batch_size=model[\"batch_size\"]),\n",
    "        \"(UNI)\",\n",
    "        f'experiments/{EXPERIMENTAL_RUN_VERSION}/unilateral/{model[\"model_name\"].split(\"/\")[-1]}-simpleqa.json',\n",
    "        SIMPLE_QA_DATASET,\n",
    "        N_SAMPLES\n",
    "    )\n",
    "    generate_results(\n",
    "        BilateralFactualityEvaluator(model[\"model_name\"], temperature=model[\"temperature\"], batch_size=model[\"batch_size\"]),\n",
    "        \"(BIL)\",\n",
    "        f'experiments/{EXPERIMENTAL_RUN_VERSION}/bilateral/{model[\"model_name\"].split(\"/\")[-1]}-simpleqa.json',\n",
    "        SIMPLE_QA_DATASET,\n",
    "        N_SAMPLES\n",
    "    )"
   ]
  }
 ],
 "metadata": {
  "kernelspec": {
   "display_name": "env",
   "language": "python",
   "name": "python3"
  },
  "language_info": {
   "codemirror_mode": {
    "name": "ipython",
    "version": 3
   },
   "file_extension": ".py",
   "mimetype": "text/x-python",
   "name": "python",
   "nbconvert_exporter": "python",
   "pygments_lexer": "ipython3",
   "version": "3.11.11"
  }
 },
 "nbformat": 4,
 "nbformat_minor": 2
}
