{
 "cells": [
  {
   "cell_type": "code",
   "execution_count": 1,
   "metadata": {},
   "outputs": [],
   "source": [
    "from factuality_evaluator_rs import UnilateralFactualityEvaluator, BilateralFactualityEvaluator\n",
    "import json, os, pandas as pd"
   ]
  },
  {
   "cell_type": "code",
   "execution_count": 2,
   "metadata": {},
   "outputs": [],
   "source": [
    "df_pos = pd.read_csv(\"data/simple_qa_test_set.csv\")\n",
    "df_neg = pd.read_csv(\"data/synthetic_dataset_with_wrong_answers.csv\")\n",
    "df_neg = df_neg[[\"metadata\", \"problem\", \"wrong_answer_1\"]]\n",
    "df_neg.rename(columns={\"wrong_answer_1\": \"answer\"}, inplace=True)\n",
    "half_size = len(df_pos) // 2\n",
    "df_pos = df_pos.iloc[:half_size]\n",
    "df_pos[\"label\"] = \"t\"\n",
    "df_neg = df_neg.iloc[half_size:]\n",
    "df_neg[\"label\"] = \"f\"\n",
    "df = pd.concat([df_pos, df_neg])\n",
    "RANDOM_SEED = 9931\n",
    "df = df.sample(frac=1, random_state=RANDOM_SEED)\n",
    "df = df.reset_index(drop=True)"
   ]
  },
  {
   "cell_type": "code",
   "execution_count": 3,
   "metadata": {},
   "outputs": [],
   "source": [
    "SIMPLE_QA_DATASET = df.to_dict(orient=\"records\")[:1000]\n",
    "DATASET_SIZE = len(SIMPLE_QA_DATASET)\n",
    "EXPERIMENTAL_RUN_VERSION = \"v9\""
   ]
  },
  {
   "cell_type": "code",
   "execution_count": 4,
   "metadata": {},
   "outputs": [],
   "source": [
    "MODELS = [ \n",
    "    { \"model_name\": \"gpt-4o-mini\", \"temperature\": 0.1, \"batch_size\": 100 },\n",
    "    { \"model_name\": \"gpt-4o-2024-11-20\", \"temperature\": 0.1, \"batch_size\": 100 },\n",
    "    { \"model_name\": \"o3-mini\", \"temperature\": None, \"batch_size\": 100 },\n",
    "    { \"model_name\": \"mistralai/Mistral-7B-Instruct-v0.3\", \"temperature\": 0.1, \"batch_size\": 50 },\n",
    "    { \"model_name\": \"mistralai/Mixtral-8x7B-Instruct-v0.1\", \"temperature\": 0.1, \"batch_size\": 50 },\n",
    "    { \"model_name\": \"claude-3-5-haiku-20241022\", \"temperature\": 0.1, \"batch_size\": 1 },\n",
    "    # { \"model_name\": \"claude-3-5-sonnet-20241022\", \"temperature\": 0.1, \"batch_size\": 1 },\n",
    "    # { \"model_name\": \"meta-llama/Llama-3.3-70B-Instruct\", \"temperature\": 0.1, \"batch_size\": 50 },\n",
    "]"
   ]
  },
  {
   "cell_type": "code",
   "execution_count": 5,
   "metadata": {},
   "outputs": [],
   "source": [
    "# Check if directory exists and create if not\n",
    "if not os.path.exists(f'experiments/{EXPERIMENTAL_RUN_VERSION}'):\n",
    "    os.makedirs(f'experiments/{EXPERIMENTAL_RUN_VERSION}/unilateral')\n",
    "    os.makedirs(f'experiments/{EXPERIMENTAL_RUN_VERSION}/bilateral')"
   ]
  },
  {
   "cell_type": "code",
   "execution_count": 6,
   "metadata": {},
   "outputs": [
    {
     "name": "stdout",
     "output_type": "stream",
     "text": [
      "gpt-4o-mini                         : EXISTS\n",
      "gpt-4o-2024-11-20                   : EXISTS\n",
      "o3-mini                             : EXISTS\n",
      "mistralai/Mistral-7B-Instruct-v0.3  : EXISTS\n",
      "mistralai/Mixtral-8x7B-Instruct-v0.1: EXISTS\n",
      "claude-3-5-haiku-20241022           : EXISTS\n"
     ]
    }
   ],
   "source": [
    "for model in MODELS:\n",
    "    filename = f'experiments/{EXPERIMENTAL_RUN_VERSION}/unilateral/{model[\"model_name\"].split(\"/\")[-1]}-simpleqa.json'\n",
    "    if os.path.isfile(filename):\n",
    "        print(f'{model[\"model_name\"]:36}: EXISTS')\n",
    "    else:\n",
    "        evaluator = UnilateralFactualityEvaluator(model[\"model_name\"], temperature=model[\"temperature\"], batch_size=model[\"batch_size\"])\n",
    "        results = evaluator.batch(SIMPLE_QA_DATASET)\n",
    "        json.dump(results, open(filename, \"w+\"))"
   ]
  },
  {
   "cell_type": "code",
   "execution_count": 7,
   "metadata": {},
   "outputs": [
    {
     "name": "stdout",
     "output_type": "stream",
     "text": [
      "gpt-4o-mini                         : EXISTS\n",
      "gpt-4o-2024-11-20                   : EXISTS\n"
     ]
    },
    {
     "name": "stderr",
     "output_type": "stream",
     "text": [
      "o3-mini                             : 100%|██████████| 10/10 [28:06<00:00, 168.68s/it]"
     ]
    },
    {
     "name": "stdout",
     "output_type": "stream",
     "text": [
      "mistralai/Mistral-7B-Instruct-v0.3  : EXISTS\n",
      "mistralai/Mixtral-8x7B-Instruct-v0.1: EXISTS\n",
      "claude-3-5-haiku-20241022           : EXISTS\n"
     ]
    },
    {
     "name": "stderr",
     "output_type": "stream",
     "text": [
      "\n"
     ]
    }
   ],
   "source": [
    "for model in MODELS:\n",
    "    filename = f'experiments/{EXPERIMENTAL_RUN_VERSION}/bilateral/{model[\"model_name\"].split(\"/\")[-1]}-simpleqa.json'\n",
    "    if os.path.isfile(filename):\n",
    "        print(f'{model[\"model_name\"]:36}: EXISTS')\n",
    "    else:\n",
    "        evaluator = BilateralFactualityEvaluator(model[\"model_name\"], temperature=model[\"temperature\"], batch_size=model[\"batch_size\"])\n",
    "        results = evaluator.batch(SIMPLE_QA_DATASET)\n",
    "        json.dump(results, open(filename, \"w+\"))"
   ]
  }
 ],
 "metadata": {
  "kernelspec": {
   "display_name": "env",
   "language": "python",
   "name": "python3"
  },
  "language_info": {
   "codemirror_mode": {
    "name": "ipython",
    "version": 3
   },
   "file_extension": ".py",
   "mimetype": "text/x-python",
   "name": "python",
   "nbconvert_exporter": "python",
   "pygments_lexer": "ipython3",
   "version": "3.11.11"
  }
 },
 "nbformat": 4,
 "nbformat_minor": 2
}
