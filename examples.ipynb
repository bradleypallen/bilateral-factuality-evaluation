{
 "cells": [
  {
   "cell_type": "code",
   "execution_count": 13,
   "metadata": {},
   "outputs": [],
   "source": [
    "from factuality_evaluator_rs import UnilateralFactualityEvaluator, BilateralFactualityEvaluator\n",
    "from IPython.display import display, Markdown"
   ]
  },
  {
   "cell_type": "code",
   "execution_count": 14,
   "metadata": {},
   "outputs": [],
   "source": [
    "MODEL = \"google/gemma-2-27b-it\""
   ]
  },
  {
   "cell_type": "code",
   "execution_count": 15,
   "metadata": {},
   "outputs": [],
   "source": [
    "EXAMPLES = [\n",
    "    {\n",
    "        \"problem\": \"Who was the first man to walk on the Moon?\",\n",
    "        \"answer\": \"Neil Armstrong\"\n",
    "    }, \n",
    "    {\n",
    "        \"problem\": \"Who was the first man to walk on the Moon?\",\n",
    "        \"answer\": \"Pete Conrad\"\n",
    "    }, \n",
    "    {\n",
    "        \"problem\": \"Are penguins birds?\",\n",
    "        \"answer\": \"No\"\n",
    "    },\n",
    "    {\n",
    "        \"problem\": \"Who was the frobnoz that restified the branks?\",\n",
    "        \"answer\": \"Rutherford B. Hayes\"\n",
    "    },\n",
    "    {\n",
    "        \"problem\": \"When was America discovered?\",\n",
    "        \"answer\": \"1492\"\n",
    "    },\n",
    "    {\n",
    "        \"problem\": \"Did Lee Harvey Oswald act alone in the assassination of John Kennedy?\",\n",
    "        \"answer\": \"Yes\"\n",
    "    },\n",
    "    {\n",
    "        \"problem\": \"Is the Holy Trinity one entity or three entities?\",\n",
    "        \"answer\": \"Three\"\n",
    "    },\n",
    "]"
   ]
  },
  {
   "cell_type": "code",
   "execution_count": 16,
   "metadata": {},
   "outputs": [],
   "source": [
    "def unilateral_evaluation(example):\n",
    "    unilateral_evaluator = UnilateralFactualityEvaluator(MODEL)\n",
    "    evaluation = unilateral_evaluator.invoke(example)\n",
    "    display(Markdown(f\"## Unilateral\"))\n",
    "    display(Markdown(f\"### Reasoning\"))\n",
    "    display(Markdown(evaluation[\"reasoning\"][0]))\n",
    "    display(Markdown(f\"### Evaluation: {evaluation['evaluation']}\"))"
   ]
  },
  {
   "cell_type": "code",
   "execution_count": 17,
   "metadata": {},
   "outputs": [],
   "source": [
    "def bilateral_evaluation(example):\n",
    "    bilateral_evaluator = BilateralFactualityEvaluator(MODEL)\n",
    "    evaluation = bilateral_evaluator.invoke(example)\n",
    "    display(Markdown(f\"## Bilateral\"))\n",
    "    display(Markdown(f\"### Verification\"))\n",
    "    display(Markdown(evaluation[\"verification\"][0]))\n",
    "    display(Markdown(f\"### Refutation\"))\n",
    "    display(Markdown(evaluation[\"refutation\"][0]))\n",
    "    display(Markdown(f\"### Evaluation: {evaluation['evaluation']}\"))"
   ]
  },
  {
   "cell_type": "code",
   "execution_count": 18,
   "metadata": {},
   "outputs": [
    {
     "data": {
      "text/markdown": [
       "# Who was the first man to walk on the Moon? Neil Armstrong"
      ],
      "text/plain": [
       "<IPython.core.display.Markdown object>"
      ]
     },
     "metadata": {},
     "output_type": "display_data"
    },
    {
     "data": {
      "text/markdown": [
       "## Unilateral"
      ],
      "text/plain": [
       "<IPython.core.display.Markdown object>"
      ]
     },
     "metadata": {},
     "output_type": "display_data"
    },
    {
     "data": {
      "text/markdown": [
       "### Reasoning"
      ],
      "text/plain": [
       "<IPython.core.display.Markdown object>"
      ]
     },
     "metadata": {},
     "output_type": "display_data"
    },
    {
     "data": {
      "text/markdown": [
       "\n",
       "\n",
       "Reasoning:\n",
       "\n",
       "1. **Essential Information:** The question asks for the name of the first man to walk on the Moon. The answer provides a name: Neil Armstrong.\n",
       "\n",
       "2. **Supporting Facts:**  Extensive historical records, eyewitness accounts, and photographic/video evidence confirm Neil Armstrong was the first person to walk on the Moon.\n",
       "\n",
       "3. **Contradictory Facts:** There are no credible sources or evidence contradicting Neil Armstrong's status as the first man on the Moon.\n",
       "\n",
       "4. **Question Context:** The question is straightforward and doesn't imply any hidden terms or conditions.\n",
       "\n",
       "5. **Missing Information:** No essential information is missing.\n",
       "\n",
       "\n",
       "Conclusion: **TRUE** \n"
      ],
      "text/plain": [
       "<IPython.core.display.Markdown object>"
      ]
     },
     "metadata": {},
     "output_type": "display_data"
    },
    {
     "data": {
      "text/markdown": [
       "### Evaluation: t"
      ],
      "text/plain": [
       "<IPython.core.display.Markdown object>"
      ]
     },
     "metadata": {},
     "output_type": "display_data"
    },
    {
     "data": {
      "text/markdown": [
       "## Bilateral"
      ],
      "text/plain": [
       "<IPython.core.display.Markdown object>"
      ]
     },
     "metadata": {},
     "output_type": "display_data"
    },
    {
     "data": {
      "text/markdown": [
       "### Verification"
      ],
      "text/plain": [
       "<IPython.core.display.Markdown object>"
      ]
     },
     "metadata": {},
     "output_type": "display_data"
    },
    {
     "data": {
      "text/markdown": [
       "\n",
       "\n",
       "Here's the breakdown:\n",
       "\n",
       "1. **Key Claims:**\n",
       "    * **Question:** Seeks the identity of the first human to walk on the Moon.\n",
       "    * **Answer:** States that Neil Armstrong was the first man to walk on the Moon.\n",
       "\n",
       "2. **Verification:**\n",
       "    * Extensive historical records, eyewitness accounts, and photographic/video evidence confirm that Neil Armstrong was the first person to walk on the Moon on July 20, 1969.\n",
       "\n",
       "3. **Unstated Assumptions:**\n",
       "    * The question assumes a shared understanding of \"man\" referring to a male human.\n",
       "\n",
       "4. **Temporal/Contextual Dependencies:**\n",
       "    * The question is grounded in a specific historical event (the first Moon landing).\n",
       "\n",
       "5. **Logical Connections:**\n",
       "    * The answer directly addresses the question by providing a specific name. The claim aligns with established historical facts.\n",
       "\n",
       "**Conclusion:** VERIFIED \n",
       "\n",
       "\n"
      ],
      "text/plain": [
       "<IPython.core.display.Markdown object>"
      ]
     },
     "metadata": {},
     "output_type": "display_data"
    },
    {
     "data": {
      "text/markdown": [
       "### Refutation"
      ],
      "text/plain": [
       "<IPython.core.display.Markdown object>"
      ]
     },
     "metadata": {},
     "output_type": "display_data"
    },
    {
     "data": {
      "text/markdown": [
       "\n",
       "\n",
       "Here's the breakdown:\n",
       "\n",
       "1. **Key Claims:**\n",
       "    * **Question:** Seeks the identity of the first human to walk on the Moon.\n",
       "    * **Answer:** States that Neil Armstrong was the first man to walk on the Moon.\n",
       "\n",
       "2. **Contradictions:** There are no direct contradictions between the question and the answer.\n",
       "\n",
       "3. **Logical Inconsistencies:** There are no logical inconsistencies. The answer provides a specific individual as a response to a question seeking an individual.\n",
       "\n",
       "4. **Impossible Conditions:**  None are present.\n",
       "\n",
       "5. **Mutually Exclusive Scenarios:** None are present.\n",
       "\n",
       "**Conclusion:** CANNOT REFUTE \n",
       "\n",
       "\n",
       "Neil Armstrong is widely recognized and accepted as the first person to walk on the Moon.  \n"
      ],
      "text/plain": [
       "<IPython.core.display.Markdown object>"
      ]
     },
     "metadata": {},
     "output_type": "display_data"
    },
    {
     "data": {
      "text/markdown": [
       "### Evaluation: t"
      ],
      "text/plain": [
       "<IPython.core.display.Markdown object>"
      ]
     },
     "metadata": {},
     "output_type": "display_data"
    },
    {
     "data": {
      "text/markdown": [
       "# Who was the first man to walk on the Moon? Pete Conrad"
      ],
      "text/plain": [
       "<IPython.core.display.Markdown object>"
      ]
     },
     "metadata": {},
     "output_type": "display_data"
    },
    {
     "data": {
      "text/markdown": [
       "## Unilateral"
      ],
      "text/plain": [
       "<IPython.core.display.Markdown object>"
      ]
     },
     "metadata": {},
     "output_type": "display_data"
    },
    {
     "data": {
      "text/markdown": [
       "### Reasoning"
      ],
      "text/plain": [
       "<IPython.core.display.Markdown object>"
      ]
     },
     "metadata": {},
     "output_type": "display_data"
    },
    {
     "data": {
      "text/markdown": [
       "\n",
       "\n",
       "Here's the reasoning:\n",
       "\n",
       "1. **Essential Information:** The question asks for the first man to walk on the Moon.\n",
       "2. **Supporting Facts:**  Neil Armstrong is widely recognized as the first man to walk on the Moon.\n",
       "3. **Contradictory Facts:** Pete Conrad was the third man to walk on the Moon, during the Apollo 12 mission.\n",
       "4. **Question Context:** The question implies a single, definitive answer.\n",
       "5. **Missing Information:** None.\n",
       "\n",
       "**Conclusion:** FALSE \n",
       "\n",
       "\n",
       "Pete Conrad was not the first man to walk on the Moon."
      ],
      "text/plain": [
       "<IPython.core.display.Markdown object>"
      ]
     },
     "metadata": {},
     "output_type": "display_data"
    },
    {
     "data": {
      "text/markdown": [
       "### Evaluation: f"
      ],
      "text/plain": [
       "<IPython.core.display.Markdown object>"
      ]
     },
     "metadata": {},
     "output_type": "display_data"
    },
    {
     "data": {
      "text/markdown": [
       "## Bilateral"
      ],
      "text/plain": [
       "<IPython.core.display.Markdown object>"
      ]
     },
     "metadata": {},
     "output_type": "display_data"
    },
    {
     "data": {
      "text/markdown": [
       "### Verification"
      ],
      "text/plain": [
       "<IPython.core.display.Markdown object>"
      ]
     },
     "metadata": {},
     "output_type": "display_data"
    },
    {
     "data": {
      "text/markdown": [
       "\n",
       "\n",
       "Here's the breakdown:\n",
       "\n",
       "1. **Key Claims:**\n",
       "    * **Question:** Asks for the identity of the first man to walk on the Moon.\n",
       "    * **Answer:** States that Pete Conrad was the first man to walk on the Moon.\n",
       "\n",
       "2. **Verification:**\n",
       "    * The widely accepted and historically documented fact is that **Neil Armstrong** was the first man to walk on the Moon.\n",
       "\n",
       "3. **Unstated Assumptions:**\n",
       "    * The answer assumes a shared understanding of the term \"walk on the Moon,\" implying the first person to physically step onto the lunar surface.\n",
       "\n",
       "4. **Temporal/Contextual Dependencies:**\n",
       "    * The question refers to a specific historical event - the first lunar landing.\n",
       "\n",
       "5. **Logical Connections:**\n",
       "    * The answer's claim directly contradicts the established historical fact.\n",
       "\n",
       "**Reasoning:** The answer provided is factually incorrect. Neil Armstrong, not Pete Conrad, was the first man to walk on the Moon.\n",
       "\n",
       "\n",
       "**Conclusion: CANNOT VERIFY** \n"
      ],
      "text/plain": [
       "<IPython.core.display.Markdown object>"
      ]
     },
     "metadata": {},
     "output_type": "display_data"
    },
    {
     "data": {
      "text/markdown": [
       "### Refutation"
      ],
      "text/plain": [
       "<IPython.core.display.Markdown object>"
      ]
     },
     "metadata": {},
     "output_type": "display_data"
    },
    {
     "data": {
      "text/markdown": [
       "\n",
       "\n",
       "Here's the breakdown:\n",
       "\n",
       "1. **Key Claims:**\n",
       "    * **Question:** Asks for the identity of the first man to walk on the Moon.\n",
       "    * **Answer:** States that Pete Conrad was the first man to walk on the Moon.\n",
       "\n",
       "2. **Contradictions:** The widely accepted historical fact is that Neil Armstrong was the first man to walk on the Moon. This directly contradicts the answer provided.\n",
       "\n",
       "**Conclusion:** REFUTED \n",
       "\n",
       "\n"
      ],
      "text/plain": [
       "<IPython.core.display.Markdown object>"
      ]
     },
     "metadata": {},
     "output_type": "display_data"
    },
    {
     "data": {
      "text/markdown": [
       "### Evaluation: f"
      ],
      "text/plain": [
       "<IPython.core.display.Markdown object>"
      ]
     },
     "metadata": {},
     "output_type": "display_data"
    },
    {
     "data": {
      "text/markdown": [
       "# Are penguins birds? No"
      ],
      "text/plain": [
       "<IPython.core.display.Markdown object>"
      ]
     },
     "metadata": {},
     "output_type": "display_data"
    },
    {
     "data": {
      "text/markdown": [
       "## Unilateral"
      ],
      "text/plain": [
       "<IPython.core.display.Markdown object>"
      ]
     },
     "metadata": {},
     "output_type": "display_data"
    },
    {
     "data": {
      "text/markdown": [
       "### Reasoning"
      ],
      "text/plain": [
       "<IPython.core.display.Markdown object>"
      ]
     },
     "metadata": {},
     "output_type": "display_data"
    },
    {
     "data": {
      "text/markdown": [
       "\n",
       "\n",
       "Here's the reasoning:\n",
       "\n",
       "1. **Essential Information:** The question asks about the classification of penguins.\n",
       "\n",
       "2. **Supporting Facts:** Penguins have feathers, lay eggs, and are warm-blooded, all characteristics of birds.\n",
       "\n",
       "3. **Contradictory Facts:** There are no known contradictory facts.\n",
       "\n",
       "4. **Context:** The question is straightforward and doesn't imply any specific context.\n",
       "\n",
       "5. **Missing Information:** There is no essential information missing.\n",
       "\n",
       "**Conclusion:** FALSE \n",
       "\n",
       "\n",
       "Penguins are indeed birds. The answer provided is incorrect. \n"
      ],
      "text/plain": [
       "<IPython.core.display.Markdown object>"
      ]
     },
     "metadata": {},
     "output_type": "display_data"
    },
    {
     "data": {
      "text/markdown": [
       "### Evaluation: f"
      ],
      "text/plain": [
       "<IPython.core.display.Markdown object>"
      ]
     },
     "metadata": {},
     "output_type": "display_data"
    },
    {
     "data": {
      "text/markdown": [
       "## Bilateral"
      ],
      "text/plain": [
       "<IPython.core.display.Markdown object>"
      ]
     },
     "metadata": {},
     "output_type": "display_data"
    },
    {
     "data": {
      "text/markdown": [
       "### Verification"
      ],
      "text/plain": [
       "<IPython.core.display.Markdown object>"
      ]
     },
     "metadata": {},
     "output_type": "display_data"
    },
    {
     "data": {
      "text/markdown": [
       "\n",
       "\n",
       "Here's the breakdown:\n",
       "\n",
       "1. **Key Claims:**\n",
       "    * **Question:** Penguins are classified as birds.\n",
       "    * **Answer:** Penguins are not birds.\n",
       "\n",
       "2. **Verification:**\n",
       "    * Scientifically, penguins are classified as birds. They possess key characteristics of birds such as feathers, wings (modified for swimming), laying eggs, and being warm-blooded.\n",
       "\n",
       "3. **Unstated Assumptions:** The answer assumes a different definition of \"bird\" than the standard scientific classification.\n",
       "\n",
       "4. **Temporal/Contextual Dependencies:** None apparent.\n",
       "\n",
       "5. **Logical Connections:** The answer's logic is flawed because it contradicts established biological facts.\n",
       "\n",
       "**Conclusion:** CANNOT VERIFY \n",
       "\n",
       "\n",
       "The answer is incorrect because penguins are definitively classified as birds."
      ],
      "text/plain": [
       "<IPython.core.display.Markdown object>"
      ]
     },
     "metadata": {},
     "output_type": "display_data"
    },
    {
     "data": {
      "text/markdown": [
       "### Refutation"
      ],
      "text/plain": [
       "<IPython.core.display.Markdown object>"
      ]
     },
     "metadata": {},
     "output_type": "display_data"
    },
    {
     "data": {
      "text/markdown": [
       "\n",
       "\n",
       "Here's the breakdown:\n",
       "\n",
       "1. **Key Claims:**\n",
       "    * **Question:** Penguins are birds.\n",
       "    * **Answer:** Penguins are not birds.\n",
       "\n",
       "2. **Direct Contradiction:** The answer directly contradicts the question.\n",
       "\n",
       "**Conclusion:** REFUTED \n",
       "\n",
       "\n",
       "The answer definitively states the opposite of what the question asks."
      ],
      "text/plain": [
       "<IPython.core.display.Markdown object>"
      ]
     },
     "metadata": {},
     "output_type": "display_data"
    },
    {
     "data": {
      "text/markdown": [
       "### Evaluation: f"
      ],
      "text/plain": [
       "<IPython.core.display.Markdown object>"
      ]
     },
     "metadata": {},
     "output_type": "display_data"
    },
    {
     "data": {
      "text/markdown": [
       "# Who was the frobnoz that restified the branks? Rutherford B. Hayes"
      ],
      "text/plain": [
       "<IPython.core.display.Markdown object>"
      ]
     },
     "metadata": {},
     "output_type": "display_data"
    },
    {
     "data": {
      "text/markdown": [
       "## Unilateral"
      ],
      "text/plain": [
       "<IPython.core.display.Markdown object>"
      ]
     },
     "metadata": {},
     "output_type": "display_data"
    },
    {
     "data": {
      "text/markdown": [
       "### Reasoning"
      ],
      "text/plain": [
       "<IPython.core.display.Markdown object>"
      ]
     },
     "metadata": {},
     "output_type": "display_data"
    },
    {
     "data": {
      "text/markdown": [
       "\n",
       "\n",
       "Here's the breakdown:\n",
       "\n",
       "1. **Essential Information:** The question asks for the identity of a \"frobnoz\" who \"restified\" \"branks.\" These terms are not recognized words in standard English.\n",
       "\n",
       "2. **Supporting Facts:** None.\n",
       "\n",
       "3. **Contradictory Facts:** None.\n",
       "\n",
       "4. **Contextual Implications:** The question appears to be using made-up or nonsensical terms.\n",
       "\n",
       "5. **Missing Information:** The definitions of \"frobnoz,\" \"restified,\" and \"branks\" are essential to answering the question.\n",
       "\n",
       "**Reasoning:**  Since the key terms in the question lack any established meaning, it's impossible to verify the answer. \n",
       "\n",
       "\n",
       "**Conclusion: FALSE** \n"
      ],
      "text/plain": [
       "<IPython.core.display.Markdown object>"
      ]
     },
     "metadata": {},
     "output_type": "display_data"
    },
    {
     "data": {
      "text/markdown": [
       "### Evaluation: f"
      ],
      "text/plain": [
       "<IPython.core.display.Markdown object>"
      ]
     },
     "metadata": {},
     "output_type": "display_data"
    },
    {
     "data": {
      "text/markdown": [
       "## Bilateral"
      ],
      "text/plain": [
       "<IPython.core.display.Markdown object>"
      ]
     },
     "metadata": {},
     "output_type": "display_data"
    },
    {
     "data": {
      "text/markdown": [
       "### Verification"
      ],
      "text/plain": [
       "<IPython.core.display.Markdown object>"
      ]
     },
     "metadata": {},
     "output_type": "display_data"
    },
    {
     "data": {
      "text/markdown": [
       "\n",
       "\n",
       "Here's the breakdown:\n",
       "\n",
       "1. **Key Claims:**\n",
       "    * **Question:**  Identifies a \"frobnoz\" who \"restified\" \"branks.\" These terms are not recognized in standard English or common knowledge.\n",
       "    * **Answer:** Claims Rutherford B. Hayes is the individual in question.\n",
       "\n",
       "2. **Verification:**\n",
       "    * The terms \"frobnoz,\" \"restified,\" and \"branks\" have no established meaning. Without definitions, it's impossible to verify if Rutherford B. Hayes fits the description.\n",
       "\n",
       "3. **Unstated Assumptions:**\n",
       "    * The question assumes a shared understanding of made-up terms.\n",
       "    * The answer assumes these terms have a specific meaning within a context unknown to the evaluator.\n",
       "\n",
       "4. **Temporal/Contextual Dependencies:**\n",
       "    * The question lacks context. Is this from a fictional work, a game, or an inside joke?\n",
       "\n",
       "5. **Logical Connections:**\n",
       "    * There's no logical connection between the answer and the question without defining the obscure terms.\n",
       "\n",
       "**Conclusion:** CANNOT VERIFY \n",
       "\n",
       "The question relies on undefined terms, making it impossible to verify the answer. \n"
      ],
      "text/plain": [
       "<IPython.core.display.Markdown object>"
      ]
     },
     "metadata": {},
     "output_type": "display_data"
    },
    {
     "data": {
      "text/markdown": [
       "### Refutation"
      ],
      "text/plain": [
       "<IPython.core.display.Markdown object>"
      ]
     },
     "metadata": {},
     "output_type": "display_data"
    },
    {
     "data": {
      "text/markdown": [
       "\n",
       "\n",
       "Here's the breakdown:\n",
       "\n",
       "1. **Key Claims:**\n",
       "    * **Question:** Asks for the identity of a \"frobnoz\" who \"restified\" \"branks.\" These terms are nonsensical and likely made up.\n",
       "    * **Answer:** Provides the name of a real historical figure, Rutherford B. Hayes.\n",
       "\n",
       "2. **Contradictions:** There's a clear contradiction. The question uses fictional terms, implying a fantastical context. The answer provides a real person, grounding the response in reality.\n",
       "\n",
       "3. **Logical Inconsistencies:** The mismatch between the fictional nature of the question and the factual nature of the answer creates a logical inconsistency.\n",
       "\n",
       "4. **Impossible Conditions:**  It's impossible for a real historical figure to perform actions within a fictional, made-up scenario.\n",
       "\n",
       "5. **Mutually Exclusive Scenarios:** The scenarios presented by the question and the answer are mutually exclusive. One deals with fantasy, the other with reality.\n",
       "\n",
       "\n",
       "**Conclusion: REFUTED** \n"
      ],
      "text/plain": [
       "<IPython.core.display.Markdown object>"
      ]
     },
     "metadata": {},
     "output_type": "display_data"
    },
    {
     "data": {
      "text/markdown": [
       "### Evaluation: f"
      ],
      "text/plain": [
       "<IPython.core.display.Markdown object>"
      ]
     },
     "metadata": {},
     "output_type": "display_data"
    },
    {
     "data": {
      "text/markdown": [
       "# When was America discovered? 1492"
      ],
      "text/plain": [
       "<IPython.core.display.Markdown object>"
      ]
     },
     "metadata": {},
     "output_type": "display_data"
    },
    {
     "data": {
      "text/markdown": [
       "## Unilateral"
      ],
      "text/plain": [
       "<IPython.core.display.Markdown object>"
      ]
     },
     "metadata": {},
     "output_type": "display_data"
    },
    {
     "data": {
      "text/markdown": [
       "### Reasoning"
      ],
      "text/plain": [
       "<IPython.core.display.Markdown object>"
      ]
     },
     "metadata": {},
     "output_type": "display_data"
    },
    {
     "data": {
      "text/markdown": [
       "\n",
       "\n",
       "Here's the reasoning:\n",
       "\n",
       "1. **Essential Information:** The question asks for the date of America's \"discovery.\"\n",
       "\n",
       "2. **Supporting Facts:** 1492 is the year Christopher Columbus first landed in the Americas.\n",
       "\n",
       "3. **Contradictory Facts:**  The concept of \"discovery\" is problematic. Indigenous peoples were already living in America for thousands of years before Columbus arrived.\n",
       "\n",
       "4. **Context:** The question implies a European perspective on \"discovery,\" which is Eurocentric and ignores the pre-existing presence of Native Americans.\n",
       "\n",
       "5. **Missing Information:** The question doesn't specify whose \"discovery\" it's referring to.\n",
       "\n",
       "**Conclusion:** FALSE \n",
       "\n",
       "While Columbus arrived in 1492, framing it as the \"discovery\" of America is inaccurate and ignores the history of Indigenous peoples. \n",
       "\n",
       "\n"
      ],
      "text/plain": [
       "<IPython.core.display.Markdown object>"
      ]
     },
     "metadata": {},
     "output_type": "display_data"
    },
    {
     "data": {
      "text/markdown": [
       "### Evaluation: f"
      ],
      "text/plain": [
       "<IPython.core.display.Markdown object>"
      ]
     },
     "metadata": {},
     "output_type": "display_data"
    },
    {
     "data": {
      "text/markdown": [
       "## Bilateral"
      ],
      "text/plain": [
       "<IPython.core.display.Markdown object>"
      ]
     },
     "metadata": {},
     "output_type": "display_data"
    },
    {
     "data": {
      "text/markdown": [
       "### Verification"
      ],
      "text/plain": [
       "<IPython.core.display.Markdown object>"
      ]
     },
     "metadata": {},
     "output_type": "display_data"
    },
    {
     "data": {
      "text/markdown": [
       "\n",
       "\n",
       "Here's the breakdown:\n",
       "\n",
       "1. **Key Claims:**\n",
       "    * **Question:** Seeks the date of America's \"discovery.\"\n",
       "    * **Answer:**  Provides the year \"1492.\"\n",
       "\n",
       "2. **Verification:**\n",
       "    * The year 1492 is associated with Christopher Columbus's arrival in the Americas.\n",
       "\n",
       "3. **Unstated Assumptions:**\n",
       "    * The answer assumes \"discovery\" means the first European arrival in the Americas. This is a Eurocentric viewpoint and ignores the presence of Indigenous peoples for thousands of years prior.\n",
       "\n",
       "4. **Temporal/Contextual Dependencies:**\n",
       "    * The concept of \"discovery\" is heavily dependent on perspective and historical context.\n",
       "\n",
       "5. **Logical Connections:**\n",
       "    * The connection between Columbus's arrival and the \"discovery\" of America is logically flawed from a broader historical perspective.\n",
       "\n",
       "**Conclusion:** CANNOT VERIFY \n",
       "\n",
       "While 1492 is a significant date in the history of European exploration of the Americas, it cannot be definitively stated as the date America was \"discovered\" due to the problematic nature of the term itself and the erasure of Indigenous history. \n"
      ],
      "text/plain": [
       "<IPython.core.display.Markdown object>"
      ]
     },
     "metadata": {},
     "output_type": "display_data"
    },
    {
     "data": {
      "text/markdown": [
       "### Refutation"
      ],
      "text/plain": [
       "<IPython.core.display.Markdown object>"
      ]
     },
     "metadata": {},
     "output_type": "display_data"
    },
    {
     "data": {
      "text/markdown": [
       "\n",
       "\n",
       "Here's the breakdown:\n",
       "\n",
       "1. **Key Claims:**\n",
       "    * **Question:** Asks for the date of America's \"discovery.\"\n",
       "    * **Answer:** Provides the year 1492.\n",
       "\n",
       "2. **Contradictions:** The question implies a single point of discovery, while the reality is more complex. Indigenous peoples were already living in America long before 1492.\n",
       "\n",
       "3. **Logical Inconsistencies:**  The answer assumes a European perspective on \"discovery,\" ignoring the pre-existing presence of Native Americans.\n",
       "\n",
       "4. **Impossible Conditions:** None.\n",
       "\n",
       "5. **Mutually Exclusive Scenarios:** The answer presents a Eurocentric view of discovery that excludes the history of Indigenous peoples.\n",
       "\n",
       "\n",
       "**Conclusion:** REFUTED \n"
      ],
      "text/plain": [
       "<IPython.core.display.Markdown object>"
      ]
     },
     "metadata": {},
     "output_type": "display_data"
    },
    {
     "data": {
      "text/markdown": [
       "### Evaluation: f"
      ],
      "text/plain": [
       "<IPython.core.display.Markdown object>"
      ]
     },
     "metadata": {},
     "output_type": "display_data"
    },
    {
     "data": {
      "text/markdown": [
       "# Did Lee Harvey Oswald act alone in the assassination of John Kennedy? Yes"
      ],
      "text/plain": [
       "<IPython.core.display.Markdown object>"
      ]
     },
     "metadata": {},
     "output_type": "display_data"
    },
    {
     "data": {
      "text/markdown": [
       "## Unilateral"
      ],
      "text/plain": [
       "<IPython.core.display.Markdown object>"
      ]
     },
     "metadata": {},
     "output_type": "display_data"
    },
    {
     "data": {
      "text/markdown": [
       "### Reasoning"
      ],
      "text/plain": [
       "<IPython.core.display.Markdown object>"
      ]
     },
     "metadata": {},
     "output_type": "display_data"
    },
    {
     "data": {
      "text/markdown": [
       "\n",
       "\n",
       "Here's the breakdown:\n",
       "\n",
       "1. **Essential Information:** The question asks about Lee Harvey Oswald's sole involvement in the assassination of John F. Kennedy.\n",
       "\n",
       "2. **Supporting Facts:** The Warren Commission, the official investigation into the assassination, concluded that Oswald acted alone.\n",
       "\n",
       "3. **Contradictory Facts:** Numerous conspiracy theories dispute the Warren Commission's findings, suggesting other individuals or groups were involved.\n",
       "\n",
       "4. **Question Context:** The question seeks a definitive yes or no answer, implying a need for conclusive evidence.\n",
       "\n",
       "5. **Missing Information:**  The question doesn't specify what constitutes \"alone.\" Does it mean he fired the fatal shots without assistance, or that he planned and executed the assassination entirely by himself?\n",
       "\n",
       "**Reasoning:**\n",
       "\n",
       "While the Warren Commission concluded Oswald acted alone, the existence of persistent and well-researched conspiracy theories casts doubt on the definitive nature of this conclusion. The ambiguity surrounding the definition of \"alone\" further complicates the issue.\n",
       "\n",
       "**Conclusion:**\n",
       "\n",
       "FALSE \n",
       "\n",
       "\n",
       "The answer cannot be definitively verified as true. \n"
      ],
      "text/plain": [
       "<IPython.core.display.Markdown object>"
      ]
     },
     "metadata": {},
     "output_type": "display_data"
    },
    {
     "data": {
      "text/markdown": [
       "### Evaluation: f"
      ],
      "text/plain": [
       "<IPython.core.display.Markdown object>"
      ]
     },
     "metadata": {},
     "output_type": "display_data"
    },
    {
     "data": {
      "text/markdown": [
       "## Bilateral"
      ],
      "text/plain": [
       "<IPython.core.display.Markdown object>"
      ]
     },
     "metadata": {},
     "output_type": "display_data"
    },
    {
     "data": {
      "text/markdown": [
       "### Verification"
      ],
      "text/plain": [
       "<IPython.core.display.Markdown object>"
      ]
     },
     "metadata": {},
     "output_type": "display_data"
    },
    {
     "data": {
      "text/markdown": [
       "\n",
       "\n",
       "Here's the breakdown:\n",
       "\n",
       "1. **Key Claims:**\n",
       "    * **Question:**  Asks if Lee Harvey Oswald was the sole perpetrator of John F. Kennedy's assassination.\n",
       "    * **Answer:**  States definitively that Oswald acted alone.\n",
       "\n",
       "2. **Verification:**\n",
       "    * The assassination of JFK is a historical event with extensive investigation. The Warren Commission concluded that Oswald acted alone. However, this conclusion remains highly debated and contested by many.\n",
       "\n",
       "3. **Unstated Assumptions:**\n",
       "    * The answer assumes the Warren Commission's conclusion is definitive and universally accepted, which is not the case.\n",
       "\n",
       "4. **Temporal/Contextual Dependencies:**\n",
       "    * The question refers to a specific historical event.\n",
       "\n",
       "5. **Logical Connections:**\n",
       "    * The answer directly addresses the question, but the logic relies on the unverified assumption about the Warren Commission's findings.\n",
       "\n",
       "**Reasoning:**\n",
       "\n",
       "While the Warren Commission concluded that Oswald acted alone, this conclusion is not universally accepted and is subject to ongoing debate and alternative theories.  \n",
       "\n",
       "**Conclusion:** CANNOT VERIFY \n",
       "\n",
       "\n"
      ],
      "text/plain": [
       "<IPython.core.display.Markdown object>"
      ]
     },
     "metadata": {},
     "output_type": "display_data"
    },
    {
     "data": {
      "text/markdown": [
       "### Refutation"
      ],
      "text/plain": [
       "<IPython.core.display.Markdown object>"
      ]
     },
     "metadata": {},
     "output_type": "display_data"
    },
    {
     "data": {
      "text/markdown": [
       "\n",
       "\n",
       "Here's the breakdown:\n",
       "\n",
       "1. **Key Claims:**\n",
       "    * **Question:** Asks if Lee Harvey Oswald was the sole assassin of John F. Kennedy.\n",
       "    * **Answer:** States that Lee Harvey Oswald acted alone.\n",
       "\n",
       "2. **Direct Contradictions:** There are no direct contradictions in the wording.\n",
       "\n",
       "3. **Logical Inconsistencies:**  The answer directly addresses the question without introducing any illogical reasoning.\n",
       "\n",
       "4. **Impossible Conditions:** The answer doesn't present any impossible scenarios.\n",
       "\n",
       "5. **Mutually Exclusive Scenarios:** The answer presents a single, definitive scenario (Oswald acting alone) which doesn't exclude other possibilities.\n",
       "\n",
       "**Reasoning:**\n",
       "\n",
       "While the answer is a simple \"yes,\" it aligns with a specific interpretation of the assassination. The question of whether Oswald acted alone is a highly debated topic with ongoing investigations and theories. The answer doesn't provide evidence or engage with these complexities.\n",
       "\n",
       "**Conclusion:**\n",
       "\n",
       "CANNOT REFUTE \n"
      ],
      "text/plain": [
       "<IPython.core.display.Markdown object>"
      ]
     },
     "metadata": {},
     "output_type": "display_data"
    },
    {
     "data": {
      "text/markdown": [
       "### Evaluation: n"
      ],
      "text/plain": [
       "<IPython.core.display.Markdown object>"
      ]
     },
     "metadata": {},
     "output_type": "display_data"
    },
    {
     "data": {
      "text/markdown": [
       "# Is the Holy Trinity one entity or three entities? Three"
      ],
      "text/plain": [
       "<IPython.core.display.Markdown object>"
      ]
     },
     "metadata": {},
     "output_type": "display_data"
    },
    {
     "data": {
      "text/markdown": [
       "## Unilateral"
      ],
      "text/plain": [
       "<IPython.core.display.Markdown object>"
      ]
     },
     "metadata": {},
     "output_type": "display_data"
    },
    {
     "data": {
      "text/markdown": [
       "### Reasoning"
      ],
      "text/plain": [
       "<IPython.core.display.Markdown object>"
      ]
     },
     "metadata": {},
     "output_type": "display_data"
    },
    {
     "data": {
      "text/markdown": [
       "\n",
       "\n",
       "Here's the reasoning:\n",
       "\n",
       "1. **Essential Information:** The question asks about the nature of the Holy Trinity, a core concept in Christian theology.\n",
       "\n",
       "2. **Supporting Facts:** The doctrine of the Trinity posits that God exists as three distinct persons: the Father, the Son (Jesus Christ), and the Holy Spirit. These persons are co-equal and co-eternal, sharing the same divine essence.\n",
       "\n",
       "3. **Contradictory Facts:** There are no major Christian denominations that teach the Holy Trinity as a single entity.\n",
       "\n",
       "4. **Contextual Implications:** The question implies a binary understanding: either one entity or three. This simplification doesn't fully capture the complexity of Trinitarian theology, which emphasizes the unity and distinction of the persons within the Godhead.\n",
       "\n",
       "5. **Missing Information:** While the answer \"Three\" aligns with the core Trinitarian doctrine, it lacks nuance.  \n",
       "\n",
       "**Conclusion:**\n",
       "\n",
       "TRUE \n",
       "\n",
       "\n",
       "While the answer is technically correct in a simplified sense, it's important to recognize the limitations of this binary framing when discussing the complex theological concept of the Trinity."
      ],
      "text/plain": [
       "<IPython.core.display.Markdown object>"
      ]
     },
     "metadata": {},
     "output_type": "display_data"
    },
    {
     "data": {
      "text/markdown": [
       "### Evaluation: t"
      ],
      "text/plain": [
       "<IPython.core.display.Markdown object>"
      ]
     },
     "metadata": {},
     "output_type": "display_data"
    },
    {
     "data": {
      "text/markdown": [
       "## Bilateral"
      ],
      "text/plain": [
       "<IPython.core.display.Markdown object>"
      ]
     },
     "metadata": {},
     "output_type": "display_data"
    },
    {
     "data": {
      "text/markdown": [
       "### Verification"
      ],
      "text/plain": [
       "<IPython.core.display.Markdown object>"
      ]
     },
     "metadata": {},
     "output_type": "display_data"
    },
    {
     "data": {
      "text/markdown": [
       "\n",
       "\n",
       "Here's the breakdown:\n",
       "\n",
       "1. **Key Claims:**\n",
       "    * **Question:** Asks about the nature of the Holy Trinity (whether it's a single entity or three distinct entities).\n",
       "    * **Answer:** States definitively \"Three.\"\n",
       "\n",
       "2. **Verification:** The concept of the Holy Trinity is a theological doctrine, not a scientific or historical fact. Its interpretation varies across Christian denominations. There's no definitive, universally accepted answer to whether it's one or three entities.\n",
       "\n",
       "3. **Unstated Assumptions:** The answer assumes a specific theological interpretation of the Holy Trinity that aligns with the belief in three distinct persons (Father, Son, and Holy Spirit) within one God.\n",
       "\n",
       "4. **Temporal/Contextual Dependencies:** The understanding of the Trinity has evolved over time within Christianity. Different historical periods and denominations hold varying views.\n",
       "\n",
       "5. **Logical Connections:** The answer directly addresses the question but relies on a specific theological perspective that is not universally accepted.\n",
       "\n",
       "**Conclusion:** CANNOT VERIFY \n",
       "\n",
       "\n",
       "The answer provides a specific theological viewpoint but cannot be definitively verified as it depends on faith and interpretation rather than objective facts."
      ],
      "text/plain": [
       "<IPython.core.display.Markdown object>"
      ]
     },
     "metadata": {},
     "output_type": "display_data"
    },
    {
     "data": {
      "text/markdown": [
       "### Refutation"
      ],
      "text/plain": [
       "<IPython.core.display.Markdown object>"
      ]
     },
     "metadata": {},
     "output_type": "display_data"
    },
    {
     "data": {
      "text/markdown": [
       "\n",
       "\n",
       "Here's the breakdown:\n",
       "\n",
       "1. **Key Claims:**\n",
       "    * **Question:** Asks if the Holy Trinity is one entity or three entities. This implies a binary choice.\n",
       "    * **Answer:** States \"Three,\" indicating the belief that the Holy Trinity consists of three entities.\n",
       "\n",
       "2. **Contradictions:** There is no direct contradiction between the question and the answer.\n",
       "\n",
       "3. **Logical Inconsistencies:**  The answer logically follows the question's structure.\n",
       "\n",
       "4. **Impossible Conditions:** None are presented.\n",
       "\n",
       "5. **Mutually Exclusive Scenarios:** The question presents two mutually exclusive scenarios: one entity or three entities. The answer aligns with one of these scenarios.\n",
       "\n",
       "\n",
       "**Conclusion:** CANNOT REFUTE \n"
      ],
      "text/plain": [
       "<IPython.core.display.Markdown object>"
      ]
     },
     "metadata": {},
     "output_type": "display_data"
    },
    {
     "data": {
      "text/markdown": [
       "### Evaluation: n"
      ],
      "text/plain": [
       "<IPython.core.display.Markdown object>"
      ]
     },
     "metadata": {},
     "output_type": "display_data"
    }
   ],
   "source": [
    "for example in EXAMPLES:\n",
    "    display(Markdown(f'# {example[\"problem\"]} {example[\"answer\"]}'))\n",
    "    unilateral_evaluation(example)\n",
    "    bilateral_evaluation(example)"
   ]
  }
 ],
 "metadata": {
  "kernelspec": {
   "display_name": "env",
   "language": "python",
   "name": "python3"
  },
  "language_info": {
   "codemirror_mode": {
    "name": "ipython",
    "version": 3
   },
   "file_extension": ".py",
   "mimetype": "text/x-python",
   "name": "python",
   "nbconvert_exporter": "python",
   "pygments_lexer": "ipython3",
   "version": "3.11.11"
  }
 },
 "nbformat": 4,
 "nbformat_minor": 2
}
