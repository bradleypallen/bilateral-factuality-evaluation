{
 "cells": [
  {
   "cell_type": "code",
   "execution_count": 15,
   "metadata": {},
   "outputs": [],
   "source": [
    "import json, glob, re, pycm, pandas as pd, numpy as np, seaborn as sns, matplotlib.pyplot as plt, scipy.stats as stats\n",
    "from IPython.display import display, Markdown"
   ]
  },
  {
   "cell_type": "code",
   "execution_count": 16,
   "metadata": {},
   "outputs": [],
   "source": [
    "EXPERIMENT_RUN_VERSION = \"v15\"\n",
    "BENCHMARK_SIZE = 448.\n",
    "REPEATED_SAMPLES_PER_EVALUATION = 3"
   ]
  },
  {
   "cell_type": "code",
   "execution_count": 17,
   "metadata": {},
   "outputs": [],
   "source": [
    "def display_cms(cms):\n",
    "    fig = plt.figure(figsize=(20,14))\n",
    "    gs = fig.add_gridspec(4, 5, hspace=0.5)\n",
    "    axes = gs.subplots()\n",
    "    for ax, (name, cm) in zip(axes.flat, cms):\n",
    "        df = pd.DataFrame(cm.matrix).T.fillna(0)\n",
    "        sns.heatmap(df, annot=True, fmt='d', cmap=\"YlGnBu\", ax=ax)\n",
    "        ax.set_title(name, wrap=True, fontsize=9)\n",
    "        ax.set(xlabel='Predicted', ylabel='Actual')\n",
    "    for ax in axes.flat[len(cms):]:\n",
    "        ax.set_visible(False)\n",
    "    plt.show()"
   ]
  },
  {
   "cell_type": "code",
   "execution_count": 18,
   "metadata": {},
   "outputs": [],
   "source": [
    "def unilateral_truth_value_distribution(df):\n",
    "    model_evals = df.groupby('model_name')['evaluation'].value_counts().unstack(fill_value=0)\n",
    "    for stat in [\"t\",\"f\",\"n\"]:\n",
    "        if stat not in model_evals:\n",
    "            model_evals[stat] = 0\n",
    "    model_evals[\"t\"] = model_evals[\"t\"] / float(BENCHMARK_SIZE)\n",
    "    model_evals[\"n\"] = model_evals[\"n\"] / float(BENCHMARK_SIZE)\n",
    "    model_evals[\"f\"] = model_evals[\"f\"] / float(BENCHMARK_SIZE)\n",
    "    return model_evals[[\"t\", \"n\", \"f\"]]"
   ]
  },
  {
   "cell_type": "code",
   "execution_count": 19,
   "metadata": {},
   "outputs": [],
   "source": [
    "def bilateral_truth_value_distribution(df):\n",
    "    model_evals = df.groupby('model_name')['evaluation'].value_counts().unstack(fill_value=0)\n",
    "    for stat in [\"t\",\"f\",\"n\", \"b\"]:\n",
    "        if stat not in model_evals:\n",
    "            model_evals[stat] = 0\n",
    "    model_evals[\"t\"] = model_evals[\"t\"] / float(BENCHMARK_SIZE)\n",
    "    model_evals[\"b\"] = model_evals[\"b\"] / float(BENCHMARK_SIZE)\n",
    "    model_evals[\"n\"] = model_evals[\"n\"] / float(BENCHMARK_SIZE)\n",
    "    model_evals[\"f\"] = model_evals[\"f\"] / float(BENCHMARK_SIZE)\n",
    "    return model_evals[[\"t\", \"n\", \"b\",  \"f\"]]"
   ]
  },
  {
   "cell_type": "code",
   "execution_count": 20,
   "metadata": {},
   "outputs": [],
   "source": [
    "def plot_f1_comparison(df, n, figsize=(15, 6)):\n",
    "    # Set the colors\n",
    "    unilateral_color = '#8884d8'\n",
    "    bilateral_color = '#82ca9d'\n",
    "\n",
    "    # Create figure with larger size\n",
    "    plt.figure(figsize=figsize)\n",
    "\n",
    "    # Calculate bar positions\n",
    "    x = np.arange(len(df))\n",
    "    width = 0.35\n",
    "\n",
    "    # Create bars\n",
    "    bars1 = plt.bar(x - width/2, df['unilateral F1 macro'], width, label='Unilateral', color=unilateral_color, alpha=0.8)\n",
    "    bars2 = plt.bar(x + width/2, df['bilateral F1 macro'], width, label='Bilateral', color=bilateral_color, alpha=0.8)\n",
    "\n",
    "    # Set y-axis limits\n",
    "    plt.ylim(0, 1.0)\n",
    "\n",
    "    # Add value labels on top of bars\n",
    "    def autolabel(bars):\n",
    "        for bar in bars:\n",
    "            height = bar.get_height()\n",
    "            plt.text(bar.get_x() + bar.get_width()/2, height, f'{height:.3f}', ha='center', va='bottom')\n",
    "\n",
    "    autolabel(bars1)\n",
    "    autolabel(bars2)\n",
    "\n",
    "    # Customize the plot\n",
    "    plt.ylabel('F1 macro (given attempted)', fontsize=12)\n",
    "    plt.title(f'Unilateral vs Bilateral Evaluation (N={int(n):d}, samples/evaluation={REPEATED_SAMPLES_PER_EVALUATION:d})', fontsize=14, pad=20)\n",
    "    plt.xticks(x, df['model'], rotation=45, ha='right')\n",
    "\n",
    "    # Adjust layout to prevent label cutoff\n",
    "    plt.legend(bbox_to_anchor=(1.02, 1), loc='upper left')\n",
    "    plt.tight_layout()\n",
    "\n",
    "    plt.show()"
   ]
  },
  {
   "cell_type": "code",
   "execution_count": 21,
   "metadata": {},
   "outputs": [],
   "source": [
    "def plot_metrics_boxplot(df):\n",
    "    \n",
    "    # Create long-format data for the three metrics (ACC, AUC, F1 macro)\n",
    "    unilateral_data = pd.DataFrame({\n",
    "        'Metric': ['ACC'] * len(df) + ['AUC'] * len(df) + ['F1 macro'] * len(df),\n",
    "        'Value': df['unilateral ACC'].tolist() + df['unilateral AUC'].tolist() + df['unilateral F1 macro'].tolist(),\n",
    "        'Type': ['Unilateral'] * (len(df) * 3)\n",
    "        })\n",
    "\n",
    "    bilateral_data = pd.DataFrame({\n",
    "        'Metric': ['ACC'] * len(df) + ['AUC'] * len(df) + ['F1 macro'] * len(df),\n",
    "        'Value': df['bilateral ACC'].tolist() + df['bilateral AUC'].tolist() + df['bilateral F1 macro'].tolist(),\n",
    "        'Type': ['Bilateral'] * (len(df) * 3)\n",
    "    })\n",
    "\n",
    "    # Combine the data\n",
    "    plot_data = pd.concat([unilateral_data, bilateral_data])\n",
    "\n",
    "    # Create the boxplot\n",
    "    plt.figure(figsize=(10, 6))\n",
    "    sns.boxplot(x='Metric', y='Value', hue='Type', data=plot_data, palette={'Unilateral': '#8884d8', 'Bilateral': '#82ca9d'})\n",
    "    plt.title('Comparison of Unilateral vs Bilateral Performance Metrics (given attempted)')\n",
    "    plt.ylabel('Score')\n",
    "    plt.ylim(0.4, 0.9)\n",
    "\n",
    "    plt.show()"
   ]
  },
  {
   "cell_type": "code",
   "execution_count": 22,
   "metadata": {},
   "outputs": [],
   "source": [
    "cms = {}\n",
    "for file in glob.glob(f\"experiments/{EXPERIMENT_RUN_VERSION}/unilateral/*.json\"):\n",
    "    model = re.match(r'.*/unilateral/(.*)-simpleqa.json', file).group(1)\n",
    "    if model not in cms:\n",
    "        cms[model] = {}\n",
    "    df = pd.DataFrame.from_records(json.load(open(file, \"r\")))\n",
    "    cms[model][\"unilateral\"] = pycm.ConfusionMatrix(df[\"label\"].tolist(), df[\"evaluation\"].tolist(), digit=2, classes=[ 't', 'f' ])\n",
    "for file in glob.glob(f\"experiments/{EXPERIMENT_RUN_VERSION}/bilateral/*.json\"):\n",
    "    model = re.match(r'.*/bilateral/(.*)-simpleqa.json', file).group(1)\n",
    "    if model not in cms:\n",
    "        cms[model] = {}\n",
    "    df = pd.DataFrame.from_records(json.load(open(file, \"r\")))\n",
    "    cms[model][\"bilateral\"] = pycm.ConfusionMatrix(df[\"label\"].tolist(), df[\"evaluation\"].tolist(), digit=2, classes=[ 't', 'f' ])"
   ]
  },
  {
   "cell_type": "code",
   "execution_count": 23,
   "metadata": {},
   "outputs": [],
   "source": [
    "stats_df = pd.DataFrame([ \n",
    "    {\n",
    "        'model': model,\n",
    "        'unilateral N': cms[model][\"unilateral\"].POP['t'], \n",
    "        'unilateral ACC': cms[model][\"unilateral\"].ACC_Macro, \n",
    "        'unilateral AUC': cms[model][\"unilateral\"].AUC['t'], \n",
    "        'unilateral F1 macro': cms[model][\"unilateral\"].F1_Macro,\n",
    "        'bilateral N': cms[model][\"bilateral\"].POP['t'], \n",
    "        'bilateral ACC': cms[model][\"bilateral\"].ACC_Macro, \n",
    "        'bilateral AUC': cms[model][\"bilateral\"].AUC['t'], \n",
    "        'bilateral F1 macro': cms[model][\"bilateral\"].F1_Macro,\n",
    "    } \n",
    "    for model in cms if \"bilateral\" in cms[model]\n",
    "])\n",
    "stats_df['delta F1'] = stats_df['bilateral F1 macro'] - stats_df['unilateral F1 macro']\n",
    "stats_df['unilateral coverage'] = stats_df['unilateral N'].apply(lambda x: x / BENCHMARK_SIZE)\n",
    "stats_df['bilateral coverage'] = stats_df['bilateral N'].apply(lambda x: x / BENCHMARK_SIZE)\n",
    "stats_df = stats_df[[ 'model', \n",
    "                     'unilateral coverage', 'unilateral ACC', 'unilateral AUC', 'unilateral F1 macro', \n",
    "                     'bilateral coverage', 'bilateral ACC', 'bilateral AUC', 'bilateral F1 macro', \n",
    "                     'delta F1' ]].sort_values('delta F1', ascending=False)"
   ]
  },
  {
   "cell_type": "code",
   "execution_count": 24,
   "metadata": {},
   "outputs": [],
   "source": [
    "columns = [\n",
    "    ('', 'model'),\n",
    "    ('unilateral', 'coverage'),\n",
    "    ('unilateral', 'ACC'),\n",
    "    ('unilateral', 'AUC'),\n",
    "    ('unilateral', 'F1 macro'),\n",
    "    ('bilateral', 'coverage'),\n",
    "    ('bilateral', 'ACC'),\n",
    "    ('bilateral', 'AUC'),\n",
    "    ('bilateral', 'F1 macro'),\n",
    "    ('', 'delta F1')\n",
    "]\n",
    "\n",
    "original_columns = ['model',\n",
    "                   'unilateral coverage', 'unilateral ACC', 'unilateral AUC', 'unilateral F1 macro',\n",
    "                   'bilateral coverage', 'bilateral ACC', 'bilateral AUC', 'bilateral F1 macro',\n",
    "                   'delta F1']\n",
    "\n",
    "df_new = stats_df[original_columns].copy()\n",
    "df_new.columns = pd.MultiIndex.from_tuples(columns)\n",
    "df_new = df_new.reset_index(drop=True)\n",
    "\n",
    "df_new = df_new.style.format({\n",
    "    ('', 'model'): '{}',\n",
    "    ('unilateral', 'coverage'): '{:.3f}',\n",
    "    ('unilateral', 'ACC'): '{:.3f}',\n",
    "    ('unilateral', 'AUC'): '{:.3f}',\n",
    "    ('unilateral', 'F1 macro'): '{:.3f}',\n",
    "    ('bilateral', 'coverage'): '{:.3f}',\n",
    "    ('bilateral', 'ACC'): '{:.3f}',\n",
    "    ('bilateral', 'AUC'): '{:.3f}',\n",
    "    ('bilateral', 'F1 macro'): '{:.3f}',\n",
    "    ('', 'delta F1'): '{:.3f}'\n",
    "})"
   ]
  },
  {
   "cell_type": "code",
   "execution_count": 25,
   "metadata": {},
   "outputs": [],
   "source": [
    "# For ACC\n",
    "uni_acc = stats_df['unilateral ACC']\n",
    "bi_acc = stats_df['bilateral ACC']\n",
    "stat_acc, p_acc = stats.mannwhitneyu(uni_acc, bi_acc, alternative='less')\n",
    "\n",
    "# For AUC\n",
    "uni_auc = stats_df['unilateral AUC']\n",
    "bi_auc = stats_df['bilateral AUC']\n",
    "stat_auc, p_auc = stats.mannwhitneyu(uni_auc, bi_auc, alternative='less')\n",
    "\n",
    "# For F1 macro\n",
    "uni_f1 = stats_df['unilateral F1 macro']\n",
    "bi_f1 = stats_df['bilateral F1 macro']\n",
    "stat_f1, p_f1 = stats.mannwhitneyu(uni_f1, bi_f1, alternative='less')"
   ]
  },
  {
   "cell_type": "code",
   "execution_count": 26,
   "metadata": {},
   "outputs": [],
   "source": [
    "unilateral_results = []\n",
    "for file in glob.glob(f\"experiments/{EXPERIMENT_RUN_VERSION}/unilateral/*.json\"):\n",
    "   unilateral_results += json.load(open(file, \"r\"))\n",
    "df_unilateral = pd.DataFrame(unilateral_results)\n",
    "df_unilateral_tv_dist = unilateral_truth_value_distribution(df_unilateral)"
   ]
  },
  {
   "cell_type": "code",
   "execution_count": 27,
   "metadata": {},
   "outputs": [],
   "source": [
    "bilateral_results = []\n",
    "for file in glob.glob(f\"experiments/{EXPERIMENT_RUN_VERSION}/bilateral/*.json\"):\n",
    "   bilateral_results += json.load(open(file, \"r\"))\n",
    "df_bilateral = pd.DataFrame(bilateral_results)\n",
    "df_bilateral_tv_dist = bilateral_truth_value_distribution(df_bilateral)"
   ]
  },
  {
   "cell_type": "code",
   "execution_count": 28,
   "metadata": {},
   "outputs": [
    {
     "data": {
      "text/markdown": [
       "# Performance by model"
      ],
      "text/plain": [
       "<IPython.core.display.Markdown object>"
      ]
     },
     "metadata": {},
     "output_type": "display_data"
    },
    {
     "data": {
      "text/html": [
       "<style type=\"text/css\">\n",
       "</style>\n",
       "<table id=\"T_ec505\">\n",
       "  <thead>\n",
       "    <tr>\n",
       "      <th class=\"blank level0\" >&nbsp;</th>\n",
       "      <th id=\"T_ec505_level0_col0\" class=\"col_heading level0 col0\" ></th>\n",
       "      <th id=\"T_ec505_level0_col1\" class=\"col_heading level0 col1\" colspan=\"4\">unilateral</th>\n",
       "      <th id=\"T_ec505_level0_col5\" class=\"col_heading level0 col5\" colspan=\"4\">bilateral</th>\n",
       "      <th id=\"T_ec505_level0_col9\" class=\"col_heading level0 col9\" ></th>\n",
       "    </tr>\n",
       "    <tr>\n",
       "      <th class=\"blank level1\" >&nbsp;</th>\n",
       "      <th id=\"T_ec505_level1_col0\" class=\"col_heading level1 col0\" >model</th>\n",
       "      <th id=\"T_ec505_level1_col1\" class=\"col_heading level1 col1\" >coverage</th>\n",
       "      <th id=\"T_ec505_level1_col2\" class=\"col_heading level1 col2\" >ACC</th>\n",
       "      <th id=\"T_ec505_level1_col3\" class=\"col_heading level1 col3\" >AUC</th>\n",
       "      <th id=\"T_ec505_level1_col4\" class=\"col_heading level1 col4\" >F1 macro</th>\n",
       "      <th id=\"T_ec505_level1_col5\" class=\"col_heading level1 col5\" >coverage</th>\n",
       "      <th id=\"T_ec505_level1_col6\" class=\"col_heading level1 col6\" >ACC</th>\n",
       "      <th id=\"T_ec505_level1_col7\" class=\"col_heading level1 col7\" >AUC</th>\n",
       "      <th id=\"T_ec505_level1_col8\" class=\"col_heading level1 col8\" >F1 macro</th>\n",
       "      <th id=\"T_ec505_level1_col9\" class=\"col_heading level1 col9\" >delta F1</th>\n",
       "    </tr>\n",
       "  </thead>\n",
       "  <tbody>\n",
       "    <tr>\n",
       "      <th id=\"T_ec505_level0_row0\" class=\"row_heading level0 row0\" >0</th>\n",
       "      <td id=\"T_ec505_row0_col0\" class=\"data row0 col0\" >nf-gpt-4o-mini</td>\n",
       "      <td id=\"T_ec505_row0_col1\" class=\"data row0 col1\" >1.000</td>\n",
       "      <td id=\"T_ec505_row0_col2\" class=\"data row0 col2\" >0.571</td>\n",
       "      <td id=\"T_ec505_row0_col3\" class=\"data row0 col3\" >0.572</td>\n",
       "      <td id=\"T_ec505_row0_col4\" class=\"data row0 col4\" >0.553</td>\n",
       "      <td id=\"T_ec505_row0_col5\" class=\"data row0 col5\" >0.337</td>\n",
       "      <td id=\"T_ec505_row0_col6\" class=\"data row0 col6\" >0.596</td>\n",
       "      <td id=\"T_ec505_row0_col7\" class=\"data row0 col7\" >0.596</td>\n",
       "      <td id=\"T_ec505_row0_col8\" class=\"data row0 col8\" >0.594</td>\n",
       "      <td id=\"T_ec505_row0_col9\" class=\"data row0 col9\" >0.041</td>\n",
       "    </tr>\n",
       "  </tbody>\n",
       "</table>\n"
      ],
      "text/plain": [
       "<pandas.io.formats.style.Styler at 0x14e9f68d0>"
      ]
     },
     "metadata": {},
     "output_type": "display_data"
    },
    {
     "data": {
      "image/png": "[encoded data removed]",
      "text/plain": [
       "<Figure size 1500x600 with 1 Axes>"
      ]
     },
     "metadata": {},
     "output_type": "display_data"
    },
    {
     "data": {
      "image/png": "[encoded data removed]",
      "text/plain": [
       "<Figure size 1000x600 with 1 Axes>"
      ]
     },
     "metadata": {},
     "output_type": "display_data"
    },
    {
     "data": {
      "text/markdown": [
       "## Mann-Whitney U test"
      ],
      "text/plain": [
       "<IPython.core.display.Markdown object>"
      ]
     },
     "metadata": {},
     "output_type": "display_data"
    },
    {
     "data": {
      "text/markdown": [
       "* ACC: U=0.0, p=0.500"
      ],
      "text/plain": [
       "<IPython.core.display.Markdown object>"
      ]
     },
     "metadata": {},
     "output_type": "display_data"
    },
    {
     "data": {
      "text/markdown": [
       "* AUC: U=0.0, p=0.500"
      ],
      "text/plain": [
       "<IPython.core.display.Markdown object>"
      ]
     },
     "metadata": {},
     "output_type": "display_data"
    },
    {
     "data": {
      "text/markdown": [
       "* F1 macro: U=0.0, p0.500"
      ],
      "text/plain": [
       "<IPython.core.display.Markdown object>"
      ]
     },
     "metadata": {},
     "output_type": "display_data"
    },
    {
     "data": {
      "text/markdown": [
       "# Truth value distribution by model"
      ],
      "text/plain": [
       "<IPython.core.display.Markdown object>"
      ]
     },
     "metadata": {},
     "output_type": "display_data"
    },
    {
     "data": {
      "text/markdown": [
       "## Unilateral"
      ],
      "text/plain": [
       "<IPython.core.display.Markdown object>"
      ]
     },
     "metadata": {},
     "output_type": "display_data"
    },
    {
     "data": {
      "text/html": [
       "<div>\n",
       "<style scoped>\n",
       "    .dataframe tbody tr th:only-of-type {\n",
       "        vertical-align: middle;\n",
       "    }\n",
       "\n",
       "    .dataframe tbody tr th {\n",
       "        vertical-align: top;\n",
       "    }\n",
       "\n",
       "    .dataframe thead th {\n",
       "        text-align: right;\n",
       "    }\n",
       "</style>\n",
       "<table border=\"1\" class=\"dataframe\">\n",
       "  <thead>\n",
       "    <tr style=\"text-align: right;\">\n",
       "      <th>evaluation</th>\n",
       "      <th>t</th>\n",
       "      <th>n</th>\n",
       "      <th>f</th>\n",
       "    </tr>\n",
       "    <tr>\n",
       "      <th>model_name</th>\n",
       "      <th></th>\n",
       "      <th></th>\n",
       "      <th></th>\n",
       "    </tr>\n",
       "  </thead>\n",
       "  <tbody>\n",
       "    <tr>\n",
       "      <th>nf-gpt-4o</th>\n",
       "      <td>0.044643</td>\n",
       "      <td>0.0</td>\n",
       "      <td>0.145089</td>\n",
       "    </tr>\n",
       "    <tr>\n",
       "      <th>nf-gpt-4o-mini</th>\n",
       "      <td>0.296875</td>\n",
       "      <td>0.0</td>\n",
       "      <td>0.703125</td>\n",
       "    </tr>\n",
       "  </tbody>\n",
       "</table>\n",
       "</div>"
      ],
      "text/plain": [
       "evaluation             t    n         f\n",
       "model_name                             \n",
       "nf-gpt-4o       0.044643  0.0  0.145089\n",
       "nf-gpt-4o-mini  0.296875  0.0  0.703125"
      ]
     },
     "metadata": {},
     "output_type": "display_data"
    },
    {
     "data": {
      "text/markdown": [
       "## Bilateral"
      ],
      "text/plain": [
       "<IPython.core.display.Markdown object>"
      ]
     },
     "metadata": {},
     "output_type": "display_data"
    },
    {
     "data": {
      "text/html": [
       "<div>\n",
       "<style scoped>\n",
       "    .dataframe tbody tr th:only-of-type {\n",
       "        vertical-align: middle;\n",
       "    }\n",
       "\n",
       "    .dataframe tbody tr th {\n",
       "        vertical-align: top;\n",
       "    }\n",
       "\n",
       "    .dataframe thead th {\n",
       "        text-align: right;\n",
       "    }\n",
       "</style>\n",
       "<table border=\"1\" class=\"dataframe\">\n",
       "  <thead>\n",
       "    <tr style=\"text-align: right;\">\n",
       "      <th>evaluation</th>\n",
       "      <th>t</th>\n",
       "      <th>n</th>\n",
       "      <th>b</th>\n",
       "      <th>f</th>\n",
       "    </tr>\n",
       "    <tr>\n",
       "      <th>model_name</th>\n",
       "      <th></th>\n",
       "      <th></th>\n",
       "      <th></th>\n",
       "      <th></th>\n",
       "    </tr>\n",
       "  </thead>\n",
       "  <tbody>\n",
       "    <tr>\n",
       "      <th>nf-gpt-4o-mini</th>\n",
       "      <td>0.147321</td>\n",
       "      <td>0.645089</td>\n",
       "      <td>0.017857</td>\n",
       "      <td>0.189732</td>\n",
       "    </tr>\n",
       "  </tbody>\n",
       "</table>\n",
       "</div>"
      ],
      "text/plain": [
       "evaluation             t         n         b         f\n",
       "model_name                                            \n",
       "nf-gpt-4o-mini  0.147321  0.645089  0.017857  0.189732"
      ]
     },
     "metadata": {},
     "output_type": "display_data"
    },
    {
     "data": {
      "text/markdown": [
       "# Confusion matrices given attempted by model"
      ],
      "text/plain": [
       "<IPython.core.display.Markdown object>"
      ]
     },
     "metadata": {},
     "output_type": "display_data"
    },
    {
     "data": {
      "text/markdown": [
       "## nf-gpt-4o-mini"
      ],
      "text/plain": [
       "<IPython.core.display.Markdown object>"
      ]
     },
     "metadata": {},
     "output_type": "display_data"
    },
    {
     "data": {
      "image/png": "[encoded data removed]",
      "text/plain": [
       "<Figure size 2000x1400 with 22 Axes>"
      ]
     },
     "metadata": {},
     "output_type": "display_data"
    }
   ],
   "source": [
    "display(Markdown(\"# Performance by model\"))\n",
    "display(df_new)\n",
    "plot_f1_comparison(stats_df, BENCHMARK_SIZE)\n",
    "plot_metrics_boxplot(stats_df)\n",
    "display(Markdown(\"## Mann-Whitney U test\"))\n",
    "display(Markdown(f\"* ACC: U={stat_acc:.1f}, p={p_acc:.3f}\"))\n",
    "display(Markdown(f\"* AUC: U={stat_auc:.1f}, p={p_auc:.3f}\"))\n",
    "display(Markdown(f\"* F1 macro: U={stat_f1:.1f}, p{p_f1:.3f}\"))\n",
    "display(Markdown(\"# Truth value distribution by model\"))\n",
    "display(Markdown(f'## Unilateral'))\n",
    "display(df_unilateral_tv_dist)\n",
    "display(Markdown(f'## Bilateral'))\n",
    "display(df_bilateral_tv_dist)\n",
    "display(Markdown(\"# Confusion matrices given attempted by model\"))\n",
    "for model in cms:\n",
    "    if \"bilateral\" in cms[model]:\n",
    "        display(Markdown(f'## {model}'))\n",
    "        display_cms([(f\"unilateral\", cms[model][\"unilateral\"]), (f\"bilateral\", cms[model][\"bilateral\"])])"
   ]
  }
 ],
 "metadata": {
  "kernelspec": {
   "display_name": "env",
   "language": "python",
   "name": "python3"
  },
  "language_info": {
   "codemirror_mode": {
    "name": "ipython",
    "version": 3
   },
   "file_extension": ".py",
   "mimetype": "text/x-python",
   "name": "python",
   "nbconvert_exporter": "python",
   "pygments_lexer": "ipython3",
   "version": "3.11.11"
  }
 },
 "nbformat": 4,
 "nbformat_minor": 2
}
