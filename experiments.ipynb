{
 "cells": [
  {
   "cell_type": "code",
   "execution_count": 8,
   "metadata": {},
   "outputs": [],
   "source": [
    "from factuality_evaluator import UnilateralFactualityEvaluator, BilateralFactualityEvaluator\n",
    "import json, os, pandas as pd"
   ]
  },
  {
   "cell_type": "code",
   "execution_count": 9,
   "metadata": {},
   "outputs": [],
   "source": [
    "df = pd.read_csv(\n",
    "    \"https://openaipublic.blob.core.windows.net/simple-evals/simple_qa_test_set.csv\"\n",
    ")"
   ]
  },
  {
   "cell_type": "code",
   "execution_count": 10,
   "metadata": {},
   "outputs": [],
   "source": [
    "SIMPLE_QA_DATASET = df.to_dict(orient=\"records\")\n",
    "DATASET_SIZE = len(SIMPLE_QA_DATASET)\n",
    "EXPERIMENTAL_RUN_VERSION = \"v5\""
   ]
  },
  {
   "cell_type": "code",
   "execution_count": 11,
   "metadata": {},
   "outputs": [],
   "source": [
    "MODELS = [ \n",
    "    { \"model_name\": \"gpt-4o-mini\", \"batch_size\": 100 },\n",
    "    { \"model_name\": \"gpt-4o-2024-11-20\", \"batch_size\": 100 },\n",
    "    { \"model_name\": \"mistralai/Mistral-7B-Instruct-v0.3\", \"batch_size\": 50 },\n",
    "    { \"model_name\": \"mistralai/Mixtral-8x7B-Instruct-v0.1\", \"batch_size\": 50 },\n",
    "    { \"model_name\": \"claude-3-5-haiku-20241022\", \"batch_size\": 1 },\n",
    "    # { \"model_name\": \"claude-3-5-sonnet-20241022\", \"batch_size\": 1 },\n",
    "    # { \"model_name\": \"meta-llama/Llama-3.3-70B-Instruct\", \"batch_size\": 50 },\n",
    "]"
   ]
  },
  {
   "cell_type": "code",
   "execution_count": 12,
   "metadata": {},
   "outputs": [],
   "source": [
    "# Check if directory exists and create if not\n",
    "if not os.path.exists(f'experiments/{EXPERIMENTAL_RUN_VERSION}'):\n",
    "    os.makedirs(f'experiments/{EXPERIMENTAL_RUN_VERSION}/unilateral')\n",
    "    os.makedirs(f'experiments/{EXPERIMENTAL_RUN_VERSION}/bilateral')"
   ]
  },
  {
   "cell_type": "code",
   "execution_count": 13,
   "metadata": {},
   "outputs": [
    {
     "name": "stdout",
     "output_type": "stream",
     "text": [
      "gpt-4o-mini                         : EXISTS\n",
      "gpt-4o-2024-11-20                   : EXISTS\n",
      "mistralai/Mistral-7B-Instruct-v0.3  : EXISTS\n",
      "mistralai/Mixtral-8x7B-Instruct-v0.1: EXISTS\n"
     ]
    },
    {
     "name": "stderr",
     "output_type": "stream",
     "text": [
      "claude-3-5-haiku-20241022           : 100%|██████████| 4326/4326 [6:04:09<00:00,  5.05s/it]  \n"
     ]
    }
   ],
   "source": [
    "for model in MODELS:\n",
    "    filename = f'experiments/{EXPERIMENTAL_RUN_VERSION}/unilateral/{model[\"model_name\"].split(\"/\")[-1]}-simpleqa.json'\n",
    "    if os.path.isfile(filename):\n",
    "        print(f'{model[\"model_name\"]:36}: EXISTS')\n",
    "    else:\n",
    "        evaluator = UnilateralFactualityEvaluator(model[\"model_name\"], batch_size=model[\"batch_size\"])\n",
    "        results = evaluator.batch(SIMPLE_QA_DATASET)\n",
    "        json.dump(results, open(filename, \"w+\"))"
   ]
  },
  {
   "cell_type": "code",
   "execution_count": null,
   "metadata": {},
   "outputs": [
    {
     "name": "stdout",
     "output_type": "stream",
     "text": [
      "gpt-4o-mini                         : EXISTS\n",
      "gpt-4o-2024-11-20                   : EXISTS\n",
      "mistralai/Mistral-7B-Instruct-v0.3  : EXISTS\n",
      "mistralai/Mixtral-8x7B-Instruct-v0.1: EXISTS\n"
     ]
    },
    {
     "name": "stderr",
     "output_type": "stream",
     "text": [
      "claude-3-5-haiku-20241022           :   1%|          | 36/4326 [06:25<12:27:33, 10.46s/it]"
     ]
    }
   ],
   "source": [
    "for model in MODELS:\n",
    "    filename = f'experiments/{EXPERIMENTAL_RUN_VERSION}/bilateral/{model[\"model_name\"].split(\"/\")[-1]}-simpleqa.json'\n",
    "    if os.path.isfile(filename):\n",
    "        print(f'{model[\"model_name\"]:36}: EXISTS')\n",
    "    else:\n",
    "        evaluator = BilateralFactualityEvaluator(model[\"model_name\"], batch_size=model[\"batch_size\"])\n",
    "        results = evaluator.batch(SIMPLE_QA_DATASET)\n",
    "        json.dump(results, open(filename, \"w+\"))"
   ]
  }
 ],
 "metadata": {
  "kernelspec": {
   "display_name": "env",
   "language": "python",
   "name": "python3"
  },
  "language_info": {
   "codemirror_mode": {
    "name": "ipython",
    "version": 3
   },
   "file_extension": ".py",
   "mimetype": "text/x-python",
   "name": "python",
   "nbconvert_exporter": "python",
   "pygments_lexer": "ipython3",
   "version": "3.11.4"
  }
 },
 "nbformat": 4,
 "nbformat_minor": 2
}
