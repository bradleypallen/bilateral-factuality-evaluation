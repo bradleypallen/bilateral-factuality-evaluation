{
 "cells": [
  {
   "cell_type": "code",
   "execution_count": 1,
   "metadata": {},
   "outputs": [],
   "source": [
    "from factuality_evaluator import UnilateralFactualityEvaluator, BilateralFactualityEvaluator\n",
    "import pandas, json, os"
   ]
  },
  {
   "cell_type": "code",
   "execution_count": 2,
   "metadata": {},
   "outputs": [],
   "source": [
    "df = pandas.read_csv(\n",
    "    \"https://openaipublic.blob.core.windows.net/simple-evals/simple_qa_test_set.csv\"\n",
    ")"
   ]
  },
  {
   "cell_type": "code",
   "execution_count": 3,
   "metadata": {},
   "outputs": [],
   "source": [
    "DATASET_SIZE = 1000"
   ]
  },
  {
   "cell_type": "code",
   "execution_count": 4,
   "metadata": {},
   "outputs": [],
   "source": [
    "SIMPLE_QA_DATASET = df.to_dict(orient=\"records\")[:DATASET_SIZE]"
   ]
  },
  {
   "cell_type": "code",
   "execution_count": 5,
   "metadata": {},
   "outputs": [],
   "source": [
    "MODELS = [ \n",
    "    { \"model_name\": \"gpt-4o-mini\", \"batch_size\": 100 },\n",
    "    { \"model_name\": \"gpt-4o-2024-11-20\", \"batch_size\": 100 },\n",
    "    { \"model_name\": \"claude-3-5-haiku-20241022\", \"batch_size\": 1 },\n",
    "    { \"model_name\": \"claude-3-5-sonnet-20241022\", \"batch_size\": 1 },\n",
    "    { \"model_name\": \"mistralai/Mistral-7B-Instruct-v0.3\", \"batch_size\": 50 },\n",
    "    { \"model_name\": \"mistralai/Mixtral-8x7B-Instruct-v0.1\", \"batch_size\": 50 },\n",
    "    { \"model_name\": \"meta-llama/Llama-3.3-70B-Instruct\", \"batch_size\": 50 },\n",
    "]"
   ]
  },
  {
   "cell_type": "code",
   "execution_count": 7,
   "metadata": {},
   "outputs": [
    {
     "name": "stdout",
     "output_type": "stream",
     "text": [
      "gpt-4o-mini                         : EXISTS\n",
      "gpt-4o-2024-11-20                   : EXISTS\n",
      "claude-3-5-haiku-20241022           : EXISTS\n",
      "claude-3-5-sonnet-20241022          : EXISTS\n",
      "mistralai/Mistral-7B-Instruct-v0.3  : EXISTS\n",
      "mistralai/Mixtral-8x7B-Instruct-v0.1: EXISTS\n"
     ]
    },
    {
     "name": "stderr",
     "output_type": "stream",
     "text": [
      "meta-llama/Llama-3.3-70B-Instruct   : 100%|██████████| 20/20 [5:14:45<00:00, 944.26s/it]   \n"
     ]
    }
   ],
   "source": [
    "for model in MODELS:\n",
    "    filename = f'experiments/unilateral/{model[\"model_name\"].split(\"/\")[-1]}-simpleqa.json'\n",
    "    if os.path.isfile(filename):\n",
    "        print(f'{model[\"model_name\"]:36}: EXISTS')\n",
    "    else:\n",
    "        evaluator = UnilateralFactualityEvaluator(model[\"model_name\"], batch_size=model[\"batch_size\"])\n",
    "        results = evaluator.batch(SIMPLE_QA_DATASET)\n",
    "        json.dump(results, open(filename, \"w+\"))"
   ]
  },
  {
   "cell_type": "code",
   "execution_count": 6,
   "metadata": {},
   "outputs": [
    {
     "name": "stdout",
     "output_type": "stream",
     "text": [
      "gpt-4o-mini                         : EXISTS\n",
      "gpt-4o-2024-11-20                   : EXISTS\n",
      "claude-3-5-haiku-20241022           : EXISTS\n"
     ]
    },
    {
     "name": "stderr",
     "output_type": "stream",
     "text": [
      "claude-3-5-sonnet-20241022          : 100%|██████████| 1000/1000 [2:53:53<00:00, 10.43s/it] \n"
     ]
    },
    {
     "name": "stdout",
     "output_type": "stream",
     "text": [
      "mistralai/Mistral-7B-Instruct-v0.3  : EXISTS\n",
      "mistralai/Mixtral-8x7B-Instruct-v0.1: EXISTS\n"
     ]
    },
    {
     "name": "stderr",
     "output_type": "stream",
     "text": [
      "meta-llama/Llama-3.3-70B-Instruct   : 100%|██████████| 20/20 [9:25:11<00:00, 1695.57s/it]  \n"
     ]
    }
   ],
   "source": [
    "for model in MODELS:\n",
    "    filename = f'experiments/bilateral/{model[\"model_name\"].split(\"/\")[-1]}-simpleqa.json'\n",
    "    if os.path.isfile(filename):\n",
    "        print(f'{model[\"model_name\"]:36}: EXISTS')\n",
    "    else:\n",
    "        evaluator = BilateralFactualityEvaluator(model[\"model_name\"], batch_size=model[\"batch_size\"])\n",
    "        results = evaluator.batch(SIMPLE_QA_DATASET)\n",
    "        json.dump(results, open(filename, \"w+\"))"
   ]
  }
 ],
 "metadata": {
  "kernelspec": {
   "display_name": "env",
   "language": "python",
   "name": "python3"
  },
  "language_info": {
   "codemirror_mode": {
    "name": "ipython",
    "version": 3
   },
   "file_extension": ".py",
   "mimetype": "text/x-python",
   "name": "python",
   "nbconvert_exporter": "python",
   "pygments_lexer": "ipython3",
   "version": "3.11.4"
  }
 },
 "nbformat": 4,
 "nbformat_minor": 2
}
