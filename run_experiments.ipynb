{
 "cells": [
  {
   "cell_type": "code",
   "execution_count": 1,
   "metadata": {},
   "outputs": [],
   "source": [
    "from bilateral_factuality_evaluator import BilateralFactualityEvaluator\n",
    "import pandas, json, os"
   ]
  },
  {
   "cell_type": "code",
   "execution_count": 2,
   "metadata": {},
   "outputs": [],
   "source": [
    "df = pandas.read_csv(\n",
    "    \"https://openaipublic.blob.core.windows.net/simple-evals/simple_qa_test_set.csv\"\n",
    ")"
   ]
  },
  {
   "cell_type": "code",
   "execution_count": 3,
   "metadata": {},
   "outputs": [],
   "source": [
    "SIMPLE_QA_DATASET = df.to_dict(orient=\"records\")"
   ]
  },
  {
   "cell_type": "code",
   "execution_count": 4,
   "metadata": {},
   "outputs": [],
   "source": [
    "MODELS = [ \n",
    "    { \"model_name\": \"gpt-4o-mini\", \"batch_size\": 100 },\n",
    "    # { \"model_name\": \"gpt-4o-2024-05-13\", \"batch_size\": 100 },\n",
    "    # { \"model_name\": \"gpt-4-0125-preview\", \"batch_size\": 50 },\n",
    "    { \"model_name\": \"mistralai/Mistral-7B-Instruct-v0.3\", \"batch_size\": 1 },\n",
    "    # { \"model_name\": \"claude-3-5-sonnet-20240620\", \"batch_size\": 1 },\n",
    "    { \"model_name\": \"mistralai/Mixtral-8x7B-Instruct-v0.1\", \"batch_size\": 50 },\n",
    "    # { \"model_name\": \"claude-3-opus-20240229\", \"batch_size\": 1 },\n",
    "    # { \"model_name\": \"meta-llama/Meta-Llama-3-70B-Instruct\", \"batch_size\": 50 },\n",
    "    # { \"model_name\": \"claude-3-haiku-20240307\", \"batch_size\": 1 },\n",
    "]"
   ]
  },
  {
   "cell_type": "code",
   "execution_count": 5,
   "metadata": {},
   "outputs": [
    {
     "name": "stdout",
     "output_type": "stream",
     "text": [
      "gpt-4o-mini                         : EXISTS\n"
     ]
    },
    {
     "name": "stderr",
     "output_type": "stream",
     "text": [
      "mistralai/Mistral-7B-Instruct-v0.3  : 100%|██████████| 4326/4326 [7:25:56<00:00,  6.19s/it]   "
     ]
    },
    {
     "name": "stdout",
     "output_type": "stream",
     "text": [
      "mistralai/Mixtral-8x7B-Instruct-v0.1: EXISTS\n"
     ]
    },
    {
     "name": "stderr",
     "output_type": "stream",
     "text": [
      "\n"
     ]
    }
   ],
   "source": [
    "for model in MODELS:\n",
    "    filename = f'experiments/{model[\"model_name\"].split(\"/\")[-1]}-simpleqa.json'\n",
    "    if os.path.isfile(filename):\n",
    "        print(f'{model[\"model_name\"]:36}: EXISTS')\n",
    "    else:\n",
    "        evaluator = BilateralFactualityEvaluator(model[\"model_name\"], batch_size=model[\"batch_size\"])\n",
    "        results = evaluator.batch(SIMPLE_QA_DATASET)\n",
    "        json.dump(results, open(filename, \"w+\"))"
   ]
  },
  {
   "cell_type": "code",
   "execution_count": null,
   "metadata": {},
   "outputs": [],
   "source": []
  }
 ],
 "metadata": {
  "kernelspec": {
   "display_name": "env",
   "language": "python",
   "name": "python3"
  },
  "language_info": {
   "codemirror_mode": {
    "name": "ipython",
    "version": 3
   },
   "file_extension": ".py",
   "mimetype": "text/x-python",
   "name": "python",
   "nbconvert_exporter": "python",
   "pygments_lexer": "ipython3",
   "version": "3.11.4"
  }
 },
 "nbformat": 4,
 "nbformat_minor": 2
}
